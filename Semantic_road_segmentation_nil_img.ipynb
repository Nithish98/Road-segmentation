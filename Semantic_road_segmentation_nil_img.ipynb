{
  "cells": [
    {
      "cell_type": "code",
      "execution_count": null,
      "metadata": {
        "colab": {
          "base_uri": "https://localhost:8080/",
          "height": 91,
          "resources": {
            "http://localhost:8080/nbextensions/google.colab/files.js": {
              "data": "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",
              "headers": [
                [
                  "content-type",
                  "application/javascript"
                ]
              ],
              "ok": true,
              "status": 200,
              "status_text": ""
            }
          }
        },
        "id": "i9J4YS5yLfLc",
        "outputId": "794a7fea-8474-4bfd-a21d-6a247e0c834c"
      },
      "outputs": [
        {
          "data": {
            "text/html": [
              "\n",
              "     <input type=\"file\" id=\"files-aeece573-9cb4-4638-8256-acbe35cfe04d\" name=\"files[]\" multiple disabled\n",
              "        style=\"border:none\" />\n",
              "     <output id=\"result-aeece573-9cb4-4638-8256-acbe35cfe04d\">\n",
              "      Upload widget is only available when the cell has been executed in the\n",
              "      current browser session. Please rerun this cell to enable.\n",
              "      </output>\n",
              "      <script src=\"/nbextensions/google.colab/files.js\"></script> "
            ],
            "text/plain": [
              "<IPython.core.display.HTML object>"
            ]
          },
          "metadata": {},
          "output_type": "display_data"
        },
        {
          "name": "stdout",
          "output_type": "stream",
          "text": [
            "Saving kaggle.json to kaggle.json\n"
          ]
        },
        {
          "data": {
            "text/plain": [
              "{'kaggle.json': b'{\"username\":\"nithishm\",\"key\":\"2d9ef72814a7ac4f083593f1257ff21b\"}'}"
            ]
          },
          "execution_count": 1,
          "metadata": {},
          "output_type": "execute_result"
        }
      ],
      "source": [
        "from google.colab import files\n",
        "files.upload()"
      ]
    },
    {
      "cell_type": "code",
      "execution_count": null,
      "metadata": {
        "colab": {
          "base_uri": "https://localhost:8080/"
        },
        "id": "apzVMqNGLhrP",
        "outputId": "c7c90e60-2ee5-4a24-f711-2c901dbdec13"
      },
      "outputs": [
        {
          "name": "stdout",
          "output_type": "stream",
          "text": [
            "Requirement already satisfied: kaggle in /usr/local/lib/python3.7/dist-packages (1.5.12)\n",
            "Requirement already satisfied: urllib3 in /usr/local/lib/python3.7/dist-packages (from kaggle) (1.24.3)\n",
            "Requirement already satisfied: python-slugify in /usr/local/lib/python3.7/dist-packages (from kaggle) (6.1.1)\n",
            "Requirement already satisfied: certifi in /usr/local/lib/python3.7/dist-packages (from kaggle) (2021.10.8)\n",
            "Requirement already satisfied: requests in /usr/local/lib/python3.7/dist-packages (from kaggle) (2.23.0)\n",
            "Requirement already satisfied: six>=1.10 in /usr/local/lib/python3.7/dist-packages (from kaggle) (1.15.0)\n",
            "Requirement already satisfied: python-dateutil in /usr/local/lib/python3.7/dist-packages (from kaggle) (2.8.2)\n",
            "Requirement already satisfied: tqdm in /usr/local/lib/python3.7/dist-packages (from kaggle) (4.63.0)\n",
            "Requirement already satisfied: text-unidecode>=1.3 in /usr/local/lib/python3.7/dist-packages (from python-slugify->kaggle) (1.3)\n",
            "Requirement already satisfied: idna<3,>=2.5 in /usr/local/lib/python3.7/dist-packages (from requests->kaggle) (2.10)\n",
            "Requirement already satisfied: chardet<4,>=3.0.2 in /usr/local/lib/python3.7/dist-packages (from requests->kaggle) (3.0.4)\n"
          ]
        }
      ],
      "source": [
        "!pip install kaggle\n",
        "#Creating folder named kaggle\n",
        "!mkdir ~/.kaggle\n",
        "#copying kaggle.json to folder kaggle\n",
        "!cp kaggle.json ~/.kaggle/\n",
        "#Modify file permission to the folder\n",
        "!chmod 600 ~/.kaggle/kaggle.json"
      ]
    },
    {
      "cell_type": "code",
      "execution_count": null,
      "metadata": {
        "colab": {
          "base_uri": "https://localhost:8080/"
        },
        "id": "hSwwqY5VL-3e",
        "outputId": "f9ca64ca-5762-448e-ba23-c94a08258383"
      },
      "outputs": [
        {
          "name": "stdout",
          "output_type": "stream",
          "text": [
            "Downloading massachusetts-roads-dataset.zip to /content\n",
            "100% 5.74G/5.76G [00:50<00:00, 137MB/s]\n",
            "100% 5.76G/5.76G [00:50<00:00, 123MB/s]\n"
          ]
        }
      ],
      "source": [
        "!kaggle datasets download -d balraj98/massachusetts-roads-dataset"
      ]
    },
    {
      "cell_type": "code",
      "execution_count": null,
      "metadata": {
        "colab": {
          "base_uri": "https://localhost:8080/"
        },
        "id": "4DB5OldyLhpY",
        "outputId": "1333164f-649a-4ccc-a078-32a780306ef7"
      },
      "outputs": [
        {
          "name": "stdout",
          "output_type": "stream",
          "text": [
            "Collecting pyunpack\n",
            "  Downloading pyunpack-0.2.2-py2.py3-none-any.whl (3.8 kB)\n",
            "Collecting easyprocess\n",
            "  Downloading EasyProcess-1.1-py3-none-any.whl (8.7 kB)\n",
            "Collecting entrypoint2\n",
            "  Downloading entrypoint2-1.0-py3-none-any.whl (9.8 kB)\n",
            "Installing collected packages: entrypoint2, easyprocess, pyunpack\n",
            "Successfully installed easyprocess-1.1 entrypoint2-1.0 pyunpack-0.2.2\n",
            "Collecting patool\n",
            "  Downloading patool-1.12-py2.py3-none-any.whl (77 kB)\n",
            "\u001b[K     |████████████████████████████████| 77 kB 3.4 MB/s \n",
            "\u001b[?25hInstalling collected packages: patool\n",
            "Successfully installed patool-1.12\n"
          ]
        }
      ],
      "source": [
        "!pip install pyunpack \n",
        "!pip install patool"
      ]
    },
    {
      "cell_type": "code",
      "execution_count": null,
      "metadata": {
        "id": "VKTnp_LANb2-"
      },
      "outputs": [],
      "source": [
        "from pyunpack import Archive\n",
        "Archive('/content/massachusetts-roads-dataset.zip').extractall(\"\")"
      ]
    },
    {
      "cell_type": "code",
      "execution_count": null,
      "metadata": {
        "id": "lyxsXhUZPDg_"
      },
      "outputs": [],
      "source": [
        "import pandas as pd\n",
        "import os\n",
        "from os import path\n",
        "from tqdm import tqdm\n",
        "import numpy as np\n",
        "import matplotlib.pyplot as plt\n",
        "import json\n",
        "import cv2\n",
        "import random\n",
        "from tqdm import tqdm\n",
        "\n",
        "\n",
        "import math\n",
        "from PIL import Image, ImageDraw\n",
        "from PIL import ImagePath\n",
        "import pandas as pd\n",
        "import os\n",
        "from os import path\n",
        "\n",
        "import json\n",
        "\n",
        "import numpy as np\n",
        "import matplotlib.pyplot as plt\n",
        "import urllib"
      ]
    },
    {
      "cell_type": "code",
      "execution_count": null,
      "metadata": {
        "id": "iNH5Ab7xMMpv"
      },
      "outputs": [],
      "source": [
        "#Reading metadata.csv file\n",
        "meta = pd.read_csv('/content/metadata.csv')"
      ]
    },
    {
      "cell_type": "code",
      "execution_count": null,
      "metadata": {
        "id": "G1ePaav-fdRz"
      },
      "outputs": [],
      "source": [
        "#Reading label_class_dict.csv file\n",
        "label = pd.read_csv('/content/label_class_dict.csv')"
      ]
    },
    {
      "cell_type": "markdown",
      "metadata": {
        "id": "A5NVLNLZYOA2"
      },
      "source": [
        "## EDA"
      ]
    },
    {
      "cell_type": "code",
      "execution_count": null,
      "metadata": {
        "colab": {
          "base_uri": "https://localhost:8080/",
          "height": 176
        },
        "id": "SObRtdfKPNfW",
        "outputId": "511c68ac-418a-4ab1-cbb8-41784dea0f69"
      },
      "outputs": [
        {
          "data": {
            "text/html": [
              "\n",
              "  <div id=\"df-d4e242aa-46b8-4ef2-895f-6292f5b7e37b\">\n",
              "    <div class=\"colab-df-container\">\n",
              "      <div>\n",
              "<style scoped>\n",
              "    .dataframe tbody tr th:only-of-type {\n",
              "        vertical-align: middle;\n",
              "    }\n",
              "\n",
              "    .dataframe tbody tr th {\n",
              "        vertical-align: top;\n",
              "    }\n",
              "\n",
              "    .dataframe thead th {\n",
              "        text-align: right;\n",
              "    }\n",
              "</style>\n",
              "<table border=\"1\" class=\"dataframe\">\n",
              "  <thead>\n",
              "    <tr style=\"text-align: right;\">\n",
              "      <th></th>\n",
              "      <th>image_id</th>\n",
              "      <th>split</th>\n",
              "      <th>image_souce_url</th>\n",
              "      <th>label_source_url</th>\n",
              "      <th>tiff_image_path</th>\n",
              "      <th>tif_label_path</th>\n",
              "      <th>png_image_path</th>\n",
              "      <th>png_label_path</th>\n",
              "    </tr>\n",
              "  </thead>\n",
              "  <tbody>\n",
              "    <tr>\n",
              "      <th>0</th>\n",
              "      <td>10078660_15</td>\n",
              "      <td>train</td>\n",
              "      <td>http://www.cs.toronto.edu/~vmnih/data/mass_roa...</td>\n",
              "      <td>http://www.cs.toronto.edu/~vmnih/data/mass_roa...</td>\n",
              "      <td>tiff/train/10078660_15.tiff</td>\n",
              "      <td>tiff/train_labels/10078660_15.tif</td>\n",
              "      <td>png/train/10078660_15.png</td>\n",
              "      <td>png/train_labels/10078660_15.png</td>\n",
              "    </tr>\n",
              "    <tr>\n",
              "      <th>1</th>\n",
              "      <td>10078675_15</td>\n",
              "      <td>train</td>\n",
              "      <td>http://www.cs.toronto.edu/~vmnih/data/mass_roa...</td>\n",
              "      <td>http://www.cs.toronto.edu/~vmnih/data/mass_roa...</td>\n",
              "      <td>tiff/train/10078675_15.tiff</td>\n",
              "      <td>tiff/train_labels/10078675_15.tif</td>\n",
              "      <td>png/train/10078675_15.png</td>\n",
              "      <td>png/train_labels/10078675_15.png</td>\n",
              "    </tr>\n",
              "  </tbody>\n",
              "</table>\n",
              "</div>\n",
              "      <button class=\"colab-df-convert\" onclick=\"convertToInteractive('df-d4e242aa-46b8-4ef2-895f-6292f5b7e37b')\"\n",
              "              title=\"Convert this dataframe to an interactive table.\"\n",
              "              style=\"display:none;\">\n",
              "        \n",
              "  <svg xmlns=\"http://www.w3.org/2000/svg\" height=\"24px\"viewBox=\"0 0 24 24\"\n",
              "       width=\"24px\">\n",
              "    <path d=\"M0 0h24v24H0V0z\" fill=\"none\"/>\n",
              "    <path d=\"M18.56 5.44l.94 2.06.94-2.06 2.06-.94-2.06-.94-.94-2.06-.94 2.06-2.06.94zm-11 1L8.5 8.5l.94-2.06 2.06-.94-2.06-.94L8.5 2.5l-.94 2.06-2.06.94zm10 10l.94 2.06.94-2.06 2.06-.94-2.06-.94-.94-2.06-.94 2.06-2.06.94z\"/><path d=\"M17.41 7.96l-1.37-1.37c-.4-.4-.92-.59-1.43-.59-.52 0-1.04.2-1.43.59L10.3 9.45l-7.72 7.72c-.78.78-.78 2.05 0 2.83L4 21.41c.39.39.9.59 1.41.59.51 0 1.02-.2 1.41-.59l7.78-7.78 2.81-2.81c.8-.78.8-2.07 0-2.86zM5.41 20L4 18.59l7.72-7.72 1.47 1.35L5.41 20z\"/>\n",
              "  </svg>\n",
              "      </button>\n",
              "      \n",
              "  <style>\n",
              "    .colab-df-container {\n",
              "      display:flex;\n",
              "      flex-wrap:wrap;\n",
              "      gap: 12px;\n",
              "    }\n",
              "\n",
              "    .colab-df-convert {\n",
              "      background-color: #E8F0FE;\n",
              "      border: none;\n",
              "      border-radius: 50%;\n",
              "      cursor: pointer;\n",
              "      display: none;\n",
              "      fill: #1967D2;\n",
              "      height: 32px;\n",
              "      padding: 0 0 0 0;\n",
              "      width: 32px;\n",
              "    }\n",
              "\n",
              "    .colab-df-convert:hover {\n",
              "      background-color: #E2EBFA;\n",
              "      box-shadow: 0px 1px 2px rgba(60, 64, 67, 0.3), 0px 1px 3px 1px rgba(60, 64, 67, 0.15);\n",
              "      fill: #174EA6;\n",
              "    }\n",
              "\n",
              "    [theme=dark] .colab-df-convert {\n",
              "      background-color: #3B4455;\n",
              "      fill: #D2E3FC;\n",
              "    }\n",
              "\n",
              "    [theme=dark] .colab-df-convert:hover {\n",
              "      background-color: #434B5C;\n",
              "      box-shadow: 0px 1px 3px 1px rgba(0, 0, 0, 0.15);\n",
              "      filter: drop-shadow(0px 1px 2px rgba(0, 0, 0, 0.3));\n",
              "      fill: #FFFFFF;\n",
              "    }\n",
              "  </style>\n",
              "\n",
              "      <script>\n",
              "        const buttonEl =\n",
              "          document.querySelector('#df-d4e242aa-46b8-4ef2-895f-6292f5b7e37b button.colab-df-convert');\n",
              "        buttonEl.style.display =\n",
              "          google.colab.kernel.accessAllowed ? 'block' : 'none';\n",
              "\n",
              "        async function convertToInteractive(key) {\n",
              "          const element = document.querySelector('#df-d4e242aa-46b8-4ef2-895f-6292f5b7e37b');\n",
              "          const dataTable =\n",
              "            await google.colab.kernel.invokeFunction('convertToInteractive',\n",
              "                                                     [key], {});\n",
              "          if (!dataTable) return;\n",
              "\n",
              "          const docLinkHtml = 'Like what you see? Visit the ' +\n",
              "            '<a target=\"_blank\" href=https://colab.research.google.com/notebooks/data_table.ipynb>data table notebook</a>'\n",
              "            + ' to learn more about interactive tables.';\n",
              "          element.innerHTML = '';\n",
              "          dataTable['output_type'] = 'display_data';\n",
              "          await google.colab.output.renderOutput(dataTable, element);\n",
              "          const docLink = document.createElement('div');\n",
              "          docLink.innerHTML = docLinkHtml;\n",
              "          element.appendChild(docLink);\n",
              "        }\n",
              "      </script>\n",
              "    </div>\n",
              "  </div>\n",
              "  "
            ],
            "text/plain": [
              "      image_id  split                                    image_souce_url  \\\n",
              "0  10078660_15  train  http://www.cs.toronto.edu/~vmnih/data/mass_roa...   \n",
              "1  10078675_15  train  http://www.cs.toronto.edu/~vmnih/data/mass_roa...   \n",
              "\n",
              "                                    label_source_url  \\\n",
              "0  http://www.cs.toronto.edu/~vmnih/data/mass_roa...   \n",
              "1  http://www.cs.toronto.edu/~vmnih/data/mass_roa...   \n",
              "\n",
              "               tiff_image_path                     tif_label_path  \\\n",
              "0  tiff/train/10078660_15.tiff  tiff/train_labels/10078660_15.tif   \n",
              "1  tiff/train/10078675_15.tiff  tiff/train_labels/10078675_15.tif   \n",
              "\n",
              "              png_image_path                    png_label_path  \n",
              "0  png/train/10078660_15.png  png/train_labels/10078660_15.png  \n",
              "1  png/train/10078675_15.png  png/train_labels/10078675_15.png  "
            ]
          },
          "execution_count": 9,
          "metadata": {},
          "output_type": "execute_result"
        }
      ],
      "source": [
        "meta.head(2)"
      ]
    },
    {
      "cell_type": "markdown",
      "metadata": {
        "id": "2PLoDCrFhV_T"
      },
      "source": [
        "metasdata.csv contains path for images and masks\n",
        "\n"
      ]
    },
    {
      "cell_type": "code",
      "execution_count": null,
      "metadata": {
        "colab": {
          "base_uri": "https://localhost:8080/",
          "height": 112
        },
        "id": "3fmgc3RCfiGO",
        "outputId": "4dd15fd8-d8c6-4c3d-d68f-036f18966e27"
      },
      "outputs": [
        {
          "data": {
            "text/html": [
              "\n",
              "  <div id=\"df-58ec6b95-0bf4-4058-9c3e-858ed97275ff\">\n",
              "    <div class=\"colab-df-container\">\n",
              "      <div>\n",
              "<style scoped>\n",
              "    .dataframe tbody tr th:only-of-type {\n",
              "        vertical-align: middle;\n",
              "    }\n",
              "\n",
              "    .dataframe tbody tr th {\n",
              "        vertical-align: top;\n",
              "    }\n",
              "\n",
              "    .dataframe thead th {\n",
              "        text-align: right;\n",
              "    }\n",
              "</style>\n",
              "<table border=\"1\" class=\"dataframe\">\n",
              "  <thead>\n",
              "    <tr style=\"text-align: right;\">\n",
              "      <th></th>\n",
              "      <th>name</th>\n",
              "      <th>r</th>\n",
              "      <th>g</th>\n",
              "      <th>b</th>\n",
              "    </tr>\n",
              "  </thead>\n",
              "  <tbody>\n",
              "    <tr>\n",
              "      <th>0</th>\n",
              "      <td>background</td>\n",
              "      <td>0</td>\n",
              "      <td>0</td>\n",
              "      <td>0</td>\n",
              "    </tr>\n",
              "    <tr>\n",
              "      <th>1</th>\n",
              "      <td>road</td>\n",
              "      <td>255</td>\n",
              "      <td>255</td>\n",
              "      <td>255</td>\n",
              "    </tr>\n",
              "  </tbody>\n",
              "</table>\n",
              "</div>\n",
              "      <button class=\"colab-df-convert\" onclick=\"convertToInteractive('df-58ec6b95-0bf4-4058-9c3e-858ed97275ff')\"\n",
              "              title=\"Convert this dataframe to an interactive table.\"\n",
              "              style=\"display:none;\">\n",
              "        \n",
              "  <svg xmlns=\"http://www.w3.org/2000/svg\" height=\"24px\"viewBox=\"0 0 24 24\"\n",
              "       width=\"24px\">\n",
              "    <path d=\"M0 0h24v24H0V0z\" fill=\"none\"/>\n",
              "    <path d=\"M18.56 5.44l.94 2.06.94-2.06 2.06-.94-2.06-.94-.94-2.06-.94 2.06-2.06.94zm-11 1L8.5 8.5l.94-2.06 2.06-.94-2.06-.94L8.5 2.5l-.94 2.06-2.06.94zm10 10l.94 2.06.94-2.06 2.06-.94-2.06-.94-.94-2.06-.94 2.06-2.06.94z\"/><path d=\"M17.41 7.96l-1.37-1.37c-.4-.4-.92-.59-1.43-.59-.52 0-1.04.2-1.43.59L10.3 9.45l-7.72 7.72c-.78.78-.78 2.05 0 2.83L4 21.41c.39.39.9.59 1.41.59.51 0 1.02-.2 1.41-.59l7.78-7.78 2.81-2.81c.8-.78.8-2.07 0-2.86zM5.41 20L4 18.59l7.72-7.72 1.47 1.35L5.41 20z\"/>\n",
              "  </svg>\n",
              "      </button>\n",
              "      \n",
              "  <style>\n",
              "    .colab-df-container {\n",
              "      display:flex;\n",
              "      flex-wrap:wrap;\n",
              "      gap: 12px;\n",
              "    }\n",
              "\n",
              "    .colab-df-convert {\n",
              "      background-color: #E8F0FE;\n",
              "      border: none;\n",
              "      border-radius: 50%;\n",
              "      cursor: pointer;\n",
              "      display: none;\n",
              "      fill: #1967D2;\n",
              "      height: 32px;\n",
              "      padding: 0 0 0 0;\n",
              "      width: 32px;\n",
              "    }\n",
              "\n",
              "    .colab-df-convert:hover {\n",
              "      background-color: #E2EBFA;\n",
              "      box-shadow: 0px 1px 2px rgba(60, 64, 67, 0.3), 0px 1px 3px 1px rgba(60, 64, 67, 0.15);\n",
              "      fill: #174EA6;\n",
              "    }\n",
              "\n",
              "    [theme=dark] .colab-df-convert {\n",
              "      background-color: #3B4455;\n",
              "      fill: #D2E3FC;\n",
              "    }\n",
              "\n",
              "    [theme=dark] .colab-df-convert:hover {\n",
              "      background-color: #434B5C;\n",
              "      box-shadow: 0px 1px 3px 1px rgba(0, 0, 0, 0.15);\n",
              "      filter: drop-shadow(0px 1px 2px rgba(0, 0, 0, 0.3));\n",
              "      fill: #FFFFFF;\n",
              "    }\n",
              "  </style>\n",
              "\n",
              "      <script>\n",
              "        const buttonEl =\n",
              "          document.querySelector('#df-58ec6b95-0bf4-4058-9c3e-858ed97275ff button.colab-df-convert');\n",
              "        buttonEl.style.display =\n",
              "          google.colab.kernel.accessAllowed ? 'block' : 'none';\n",
              "\n",
              "        async function convertToInteractive(key) {\n",
              "          const element = document.querySelector('#df-58ec6b95-0bf4-4058-9c3e-858ed97275ff');\n",
              "          const dataTable =\n",
              "            await google.colab.kernel.invokeFunction('convertToInteractive',\n",
              "                                                     [key], {});\n",
              "          if (!dataTable) return;\n",
              "\n",
              "          const docLinkHtml = 'Like what you see? Visit the ' +\n",
              "            '<a target=\"_blank\" href=https://colab.research.google.com/notebooks/data_table.ipynb>data table notebook</a>'\n",
              "            + ' to learn more about interactive tables.';\n",
              "          element.innerHTML = '';\n",
              "          dataTable['output_type'] = 'display_data';\n",
              "          await google.colab.output.renderOutput(dataTable, element);\n",
              "          const docLink = document.createElement('div');\n",
              "          docLink.innerHTML = docLinkHtml;\n",
              "          element.appendChild(docLink);\n",
              "        }\n",
              "      </script>\n",
              "    </div>\n",
              "  </div>\n",
              "  "
            ],
            "text/plain": [
              "         name    r    g    b\n",
              "0  background    0    0    0\n",
              "1        road  255  255  255"
            ]
          },
          "execution_count": 10,
          "metadata": {},
          "output_type": "execute_result"
        }
      ],
      "source": [
        "label"
      ]
    },
    {
      "cell_type": "markdown",
      "metadata": {
        "id": "8eUWiPl1gZCz"
      },
      "source": [
        "1.   There are 2 classes in the data and they are, 'road' and,  'background'\n",
        "2.   Their corresponding pixel values are 'road: 255', 'every thing else: 0'\n",
        "\n"
      ]
    },
    {
      "cell_type": "code",
      "execution_count": null,
      "metadata": {
        "id": "isJVxuqrZ5XN"
      },
      "outputs": [],
      "source": [
        "root_dir='/content'"
      ]
    },
    {
      "cell_type": "code",
      "execution_count": null,
      "metadata": {
        "colab": {
          "base_uri": "https://localhost:8080/",
          "height": 410
        },
        "id": "AQmdjK4Jku_P",
        "outputId": "e78d840f-bf04-4b50-9dba-a80e2959fa11"
      },
      "outputs": [
        {
          "data": {
            "text/plain": [
              "<matplotlib.image.AxesImage at 0x7f7537173350>"
            ]
          },
          "execution_count": 12,
          "metadata": {},
          "output_type": "execute_result"
        },
        {
          "data": {
            "image/png": "[encoded data removed]",
            "text/plain": [
              "<Figure size 1440x1800 with 2 Axes>"
            ]
          },
          "metadata": {
            "needs_background": "light"
          },
          "output_type": "display_data"
        }
      ],
      "source": [
        "#Plotting a image whith its mask\n",
        "img_path = os.path.join(root_dir, meta['tiff_image_path'][1])\n",
        "mask_path = os.path.join(root_dir, meta['tif_label_path'][1])  \n",
        "image = cv2.imread(img_path)\n",
        "mask = cv2.imread(mask_path)\n",
        "plt.figure(figsize=(20,25))\n",
        "plt.subplot(131)\n",
        "plt.title('satellite')\n",
        "plt.imshow(image)\n",
        "plt.subplot(132)\n",
        "plt.title('Mask')\n",
        "plt.imshow(mask)"
      ]
    },
    {
      "cell_type": "markdown",
      "metadata": {
        "id": "t1a6506ylx4c"
      },
      "source": [
        "1.   Every image is of size 1500*1500 covering a area of 2.5sqkm\n",
        "2.   Every mask is of size 1500*1500 with road segmented from the original image with a pixel value of 255"
      ]
    },
    {
      "cell_type": "code",
      "execution_count": null,
      "metadata": {
        "id": "k0zVb4LgYSwl"
      },
      "outputs": [],
      "source": [
        "#plotting random images and their masks\n",
        "for i in range(20):\n",
        "  rand = random.randint(0,len(meta))\n",
        "  img_path = os.path.join(root_dir, meta['tiff_image_path'][rand])\n",
        "  mask_path = os.path.join(root_dir, meta['tif_label_path'][rand])  \n",
        "  image = cv2.imread(img_path)\n",
        "  mask = cv2.imread(mask_path)\n",
        "  plt.figure(figsize=(20,25))\n",
        "  plt.subplot(131)\n",
        "  plt.title(img_path)\n",
        "  plt.imshow(image)\n",
        "  plt.subplot(132)\n",
        "  plt.title(mask_path)\n",
        "  plt.imshow(mask)"
      ]
    },
    {
      "cell_type": "markdown",
      "metadata": {
        "id": "U8N_EB7KiTEv"
      },
      "source": [
        "Observations - There some images with good chunk of their data missing but thier respective masks have are complete, which might throw of the model."
      ]
    },
    {
      "cell_type": "markdown",
      "metadata": {
        "id": "ScNT2dX6lAkq"
      },
      "source": [
        "## Pre-processing"
      ]
    },
    {
      "cell_type": "code",
      "execution_count": null,
      "metadata": {
        "id": "Y_xjFMz1ZNZN"
      },
      "outputs": [],
      "source": [
        "#Function to store images that are missing less than 10% of size\n",
        "def preprocess(meta, thereshold):\n",
        "  complete_image_path=[]\n",
        "  mask_path=[]\n",
        "  for i in range(len(meta)):\n",
        "    img_path = os.path.join(root_dir, meta['tiff_image_path'][i])\n",
        "    msk_path = os.path.join(root_dir, meta['tif_label_path'][i])\n",
        "    image = cv2.imread(img_path)\n",
        "    #converting the image to grayscale\n",
        "    gray_image = cv2.cvtColor(image, cv2.COLOR_RGB2GRAY)\n",
        "\n",
        "    #counting number of white pixels to size of blank part of the image\n",
        "    if (np.sum(gray_image==255)/(2250000)) <thereshold:\n",
        "      complete_image_path.append(img_path)\n",
        "      mask_path.append(msk_path)\n",
        "  #print(mask_path)\n",
        "  return(complete_image_path, mask_path)"
      ]
    },
    {
      "cell_type": "code",
      "execution_count": null,
      "metadata": {
        "id": "3alVRwWgoePb"
      },
      "outputs": [],
      "source": [
        "image_path, mask_path = preprocess(meta, 0.1)"
      ]
    },
    {
      "cell_type": "code",
      "execution_count": null,
      "metadata": {
        "colab": {
          "base_uri": "https://localhost:8080/"
        },
        "id": "ep9swmPXozpN",
        "outputId": "1ceb4045-f7aa-424f-ec6a-efd625188dde"
      },
      "outputs": [
        {
          "name": "stdout",
          "output_type": "stream",
          "text": [
            "Number of images with less than 10% of this data missing:  851\n"
          ]
        }
      ],
      "source": [
        "print('Number of images with less than 10% of this data missing: ', len(image_path))"
      ]
    },
    {
      "cell_type": "code",
      "execution_count": null,
      "metadata": {
        "id": "HX8VY6Qaprq4"
      },
      "outputs": [],
      "source": [
        "#plotting random images and their masks after preprocessing\n",
        "for i in range(10):\n",
        "  rand = random.randint(0,len(image_path)) \n",
        "  image = cv2.imread(image_path[rand])\n",
        "  mask = cv2.imread(mask_path[rand])\n",
        "  plt.figure(figsize=(20,25))\n",
        "  plt.subplot(131)\n",
        "  plt.title(image_path[rand])\n",
        "  plt.imshow(image)\n",
        "  plt.subplot(132)\n",
        "  plt.title(mask_path[rand])\n",
        "  plt.imshow(mask)"
      ]
    },
    {
      "cell_type": "code",
      "execution_count": null,
      "metadata": {
        "id": "LrpTxun-v45k"
      },
      "outputs": [],
      "source": [
        "def crop_images(image_path, mask_path, directory, crop):\n",
        "  #Creating new directory\n",
        "  if os.path.exists(directory):\n",
        "    print('Directory alredy exists')\n",
        "  else:\n",
        "    os.mkdir(directory)\n",
        "    print(\"Directory '% s' created\" % directory)\n",
        "\n",
        "  #Creating new directory to store cropped images\n",
        "  if os.path.exists(directory+'/images'):\n",
        "    print('Directory alredy exists')\n",
        "  else:\n",
        "    os.mkdir(directory+'/images')\n",
        "    print(\"Directory '% s'/images created\" % directory)\n",
        "\n",
        "  #Creating new directory to store cropped masks\n",
        "  if os.path.exists(directory+'/lables'):\n",
        "    print('Directory alredy exists')\n",
        "  else:\n",
        "    os.mkdir(directory+'/lables')\n",
        "    print(\"Directory '% s'/lables created\" % directory)\n",
        "\n",
        "  cropped_image_paths = []\n",
        "  cropped_mask_paths = []\n",
        "\n",
        "  for i in tqdm(range(len(image_path))):\n",
        "    image = cv2.imread(image_path[i])\n",
        "    mask = cv2.imread(mask_path[i])\n",
        "    a=0\n",
        "    for j in [0,2,4]:\n",
        "      for k in [0,2,4]:\n",
        "        cropped_image_path = directory+'/images/'+str(a)+'_' + image_path[i].split('/')[-1]\n",
        "        croppped_mask_path = directory+'/lables/'+str(a)+'_' + image_path[i].split('/')[-1]\n",
        "        a+=1\n",
        "\n",
        "        cv2.imwrite(cropped_image_path, image[crop[j]:crop[j+1], crop[k]:crop[k+1]])\n",
        "        cv2.imwrite(croppped_mask_path, mask[crop[j]:crop[j+1], crop[k]:crop[k+1]])\n",
        "\n",
        "        cropped_image_paths.append(cropped_image_path)\n",
        "        cropped_mask_paths.append(croppped_mask_path)\n",
        "\n",
        "  return(cropped_image_paths, cropped_mask_paths)\n",
        "\n",
        "\n"
      ]
    },
    {
      "cell_type": "code",
      "execution_count": null,
      "metadata": {
        "id": "qx7cU6zWZSN6"
      },
      "outputs": [],
      "source": [
        "crop = [0,512,500,1012,988,1500]\n",
        "directory = '/content/cropped'"
      ]
    },
    {
      "cell_type": "code",
      "execution_count": null,
      "metadata": {
        "colab": {
          "base_uri": "https://localhost:8080/"
        },
        "id": "nLoPI5AKSD2G",
        "outputId": "c079b420-4bfc-4a91-93d1-efd69b3b9e8f"
      },
      "outputs": [
        {
          "name": "stdout",
          "output_type": "stream",
          "text": [
            "Directory '/content/cropped' created\n",
            "Directory '/content/cropped'/images created\n",
            "Directory '/content/cropped'/lables created\n"
          ]
        },
        {
          "name": "stderr",
          "output_type": "stream",
          "text": [
            "100%|██████████| 851/851 [03:33<00:00,  4.00it/s]\n"
          ]
        }
      ],
      "source": [
        "cropped_images, cropped_masks = crop_images(image_path, mask_path, directory, crop)"
      ]
    },
    {
      "cell_type": "code",
      "execution_count": null,
      "metadata": {
        "colab": {
          "base_uri": "https://localhost:8080/"
        },
        "id": "0gO4RO4OS58a",
        "outputId": "28a16d60-affe-4ea3-a51d-c5b2cae8e36a"
      },
      "outputs": [
        {
          "data": {
            "text/plain": [
              "7659"
            ]
          },
          "execution_count": 21,
          "metadata": {},
          "output_type": "execute_result"
        }
      ],
      "source": [
        "len(cropped_images)"
      ]
    },
    {
      "cell_type": "code",
      "execution_count": null,
      "metadata": {
        "colab": {
          "base_uri": "https://localhost:8080/",
          "height": 35
        },
        "id": "-GrZgQMDdtuz",
        "outputId": "778be98f-549d-46fa-93e5-9c16cdfbd250"
      },
      "outputs": [
        {
          "data": {
            "application/vnd.google.colaboratory.intrinsic+json": {
              "type": "string"
            },
            "text/plain": [
              "'/content/tiff/train/10078675_15.tiff'"
            ]
          },
          "execution_count": 22,
          "metadata": {},
          "output_type": "execute_result"
        }
      ],
      "source": [
        "image_path[0]"
      ]
    },
    {
      "cell_type": "code",
      "execution_count": null,
      "metadata": {
        "id": "FdQdX54bLpzL"
      },
      "outputs": [],
      "source": [
        "#plotting original image and its cropped images\n",
        "\n",
        "#Original image 1500*1500\n",
        "image = cv2.imread(image_path[0])\n",
        "mask = cv2.imread(mask_path[0])\n",
        "plt.figure(figsize=(20,25))\n",
        "plt.subplot(121)\n",
        "plt.title('Original satellite image 1500*1500')\n",
        "plt.imshow(image)\n",
        "plt.subplot(122)\n",
        "plt.title('Original mask 1500*1500')\n",
        "plt.imshow(mask)\n",
        "\n",
        "# cropped image 512*512\n",
        "for i in range(6): \n",
        "  image = cv2.imread(cropped_images[i])\n",
        "  mask = cv2.imread(cropped_masks[i])\n",
        "  plt.figure(figsize=(12,15))\n",
        "  plt.subplot(121)\n",
        "  plt.title('cropped image 512*512')\n",
        "  plt.imshow(image)\n",
        "  plt.subplot(122)\n",
        "  plt.title('cropped mask 512*512')\n",
        "  plt.imshow(mask)"
      ]
    },
    {
      "cell_type": "code",
      "execution_count": null,
      "metadata": {
        "id": "_JdExBk2aou0"
      },
      "outputs": [],
      "source": [
        "from sklearn.model_selection import train_test_split\n",
        "import tensorflow as tf\n",
        "from tensorflow import keras\n",
        "from tensorflow.keras import layers\n",
        "from tensorflow.keras.models import Model\n",
        "# tf.enable_eager_execution()\n",
        "import matplotlib.pyplot as plt\n",
        "import imgaug.augmenters as iaa"
      ]
    },
    {
      "cell_type": "code",
      "execution_count": null,
      "metadata": {
        "id": "RIGsLtSDap1D"
      },
      "outputs": [],
      "source": [
        "train_images, test_images, train_masks, test_masks = train_test_split(np.array(cropped_images), np.array(cropped_masks), test_size=0.2)"
      ]
    },
    {
      "cell_type": "code",
      "execution_count": null,
      "metadata": {
        "colab": {
          "base_uri": "https://localhost:8080/"
        },
        "id": "nOpd1M5VMs6u",
        "outputId": "4b37a632-f142-49fd-b82f-c47c7c27c072"
      },
      "outputs": [
        {
          "name": "stdout",
          "output_type": "stream",
          "text": [
            "Collecting segmentation-models\n",
            "  Downloading segmentation_models-1.0.1-py3-none-any.whl (33 kB)\n",
            "Collecting efficientnet==1.0.0\n",
            "  Downloading efficientnet-1.0.0-py3-none-any.whl (17 kB)\n",
            "Collecting image-classifiers==1.0.0\n",
            "  Downloading image_classifiers-1.0.0-py3-none-any.whl (19 kB)\n",
            "Collecting keras-applications<=1.0.8,>=1.0.7\n",
            "  Downloading Keras_Applications-1.0.8-py3-none-any.whl (50 kB)\n",
            "\u001b[K     |████████████████████████████████| 50 kB 6.1 MB/s \n",
            "\u001b[?25hRequirement already satisfied: scikit-image in /usr/local/lib/python3.7/dist-packages (from efficientnet==1.0.0->segmentation-models) (0.18.3)\n",
            "Requirement already satisfied: h5py in /usr/local/lib/python3.7/dist-packages (from keras-applications<=1.0.8,>=1.0.7->segmentation-models) (3.1.0)\n",
            "Requirement already satisfied: numpy>=1.9.1 in /usr/local/lib/python3.7/dist-packages (from keras-applications<=1.0.8,>=1.0.7->segmentation-models) (1.21.5)\n",
            "Requirement already satisfied: cached-property in /usr/local/lib/python3.7/dist-packages (from h5py->keras-applications<=1.0.8,>=1.0.7->segmentation-models) (1.5.2)\n",
            "Requirement already satisfied: matplotlib!=3.0.0,>=2.0.0 in /usr/local/lib/python3.7/dist-packages (from scikit-image->efficientnet==1.0.0->segmentation-models) (3.2.2)\n",
            "Requirement already satisfied: tifffile>=2019.7.26 in /usr/local/lib/python3.7/dist-packages (from scikit-image->efficientnet==1.0.0->segmentation-models) (2021.11.2)\n",
            "Requirement already satisfied: scipy>=1.0.1 in /usr/local/lib/python3.7/dist-packages (from scikit-image->efficientnet==1.0.0->segmentation-models) (1.4.1)\n",
            "Requirement already satisfied: networkx>=2.0 in /usr/local/lib/python3.7/dist-packages (from scikit-image->efficientnet==1.0.0->segmentation-models) (2.6.3)\n",
            "Requirement already satisfied: PyWavelets>=1.1.1 in /usr/local/lib/python3.7/dist-packages (from scikit-image->efficientnet==1.0.0->segmentation-models) (1.3.0)\n",
            "Requirement already satisfied: imageio>=2.3.0 in /usr/local/lib/python3.7/dist-packages (from scikit-image->efficientnet==1.0.0->segmentation-models) (2.4.1)\n",
            "Requirement already satisfied: pillow!=7.1.0,!=7.1.1,>=4.3.0 in /usr/local/lib/python3.7/dist-packages (from scikit-image->efficientnet==1.0.0->segmentation-models) (7.1.2)\n",
            "Requirement already satisfied: cycler>=0.10 in /usr/local/lib/python3.7/dist-packages (from matplotlib!=3.0.0,>=2.0.0->scikit-image->efficientnet==1.0.0->segmentation-models) (0.11.0)\n",
            "Requirement already satisfied: pyparsing!=2.0.4,!=2.1.2,!=2.1.6,>=2.0.1 in /usr/local/lib/python3.7/dist-packages (from matplotlib!=3.0.0,>=2.0.0->scikit-image->efficientnet==1.0.0->segmentation-models) (3.0.7)\n",
            "Requirement already satisfied: python-dateutil>=2.1 in /usr/local/lib/python3.7/dist-packages (from matplotlib!=3.0.0,>=2.0.0->scikit-image->efficientnet==1.0.0->segmentation-models) (2.8.2)\n",
            "Requirement already satisfied: kiwisolver>=1.0.1 in /usr/local/lib/python3.7/dist-packages (from matplotlib!=3.0.0,>=2.0.0->scikit-image->efficientnet==1.0.0->segmentation-models) (1.4.0)\n",
            "Requirement already satisfied: typing-extensions in /usr/local/lib/python3.7/dist-packages (from kiwisolver>=1.0.1->matplotlib!=3.0.0,>=2.0.0->scikit-image->efficientnet==1.0.0->segmentation-models) (3.10.0.2)\n",
            "Requirement already satisfied: six>=1.5 in /usr/local/lib/python3.7/dist-packages (from python-dateutil>=2.1->matplotlib!=3.0.0,>=2.0.0->scikit-image->efficientnet==1.0.0->segmentation-models) (1.15.0)\n",
            "Installing collected packages: keras-applications, image-classifiers, efficientnet, segmentation-models\n",
            "Successfully installed efficientnet-1.0.0 image-classifiers-1.0.0 keras-applications-1.0.8 segmentation-models-1.0.1\n"
          ]
        }
      ],
      "source": [
        "!pip install -U segmentation-models"
      ]
    },
    {
      "cell_type": "code",
      "execution_count": null,
      "metadata": {
        "colab": {
          "base_uri": "https://localhost:8080/"
        },
        "id": "tZEr2e4pMs6v",
        "outputId": "6007eb20-63a4-4594-80fe-baa8664878dd"
      },
      "outputs": [
        {
          "name": "stdout",
          "output_type": "stream",
          "text": [
            "Segmentation Models: using `keras` framework.\n"
          ]
        }
      ],
      "source": [
        "# we are importing the pretrained unet from the segmentation models\n",
        "# https://github.com/qubvel/segmentation_models\n",
        "import segmentation_models as sm\n",
        "from segmentation_models import Unet\n",
        "sm.set_framework('tf.keras')\n",
        "tf.keras.backend.set_image_data_format('channels_last')"
      ]
    },
    {
      "cell_type": "code",
      "execution_count": null,
      "metadata": {
        "id": "wL2i9x8ZXHOT"
      },
      "outputs": [],
      "source": [
        "class Test_Dataset:\n",
        "    # we will be modifying this CLASSES according to your data/problems\n",
        "    CLASSES = ['background', 'road']\n",
        "    \n",
        "    def __init__(self, image_path, mask_path, classes=CLASSES):\n",
        "        # the paths of images\n",
        "        self.images_fps   = image_path\n",
        "        # the paths of segmentation images\n",
        "        self.masks_fps    = mask_path\n",
        "        # giving labels for each class\n",
        "        self.class_values = [self.CLASSES.index(cls.lower()) for cls in classes]\n",
        "        print(self.class_values)\n",
        "    \n",
        "    def __getitem__(self, i):\n",
        "        \n",
        "        # read data\n",
        "        image = cv2.imread(self.images_fps[i], cv2.IMREAD_UNCHANGED)\n",
        "        #image = image.astype(np.float32)\n",
        "        image = normalize_image(image)\n",
        "        mask  = cv2.imread(self.masks_fps[i], cv2.IMREAD_UNCHANGED)\n",
        "        image_mask = mask[:,:,0]\n",
        "        image_mask[image_mask==0] = 0\n",
        "        #image_mask[image_mask==255] = 1\n",
        "        #image_mask = image_mask.astype(np.float32)\n",
        "        #image_mask = normalize_image(image_mask)\n",
        "\n",
        "        \n",
        "        image_masks = [(image_mask == v) for v in [255,0]]\n",
        "        image_mask = np.stack(image_masks, axis=-1).astype('float')\n",
        "        #image_mask = normalize_image(image_mask)\n",
        "\n",
        "            \n",
        "        return image, image_mask\n",
        "        \n",
        "    def __len__(self):\n",
        "        return len(self.images_fps)"
      ]
    },
    {
      "cell_type": "code",
      "execution_count": null,
      "metadata": {
        "colab": {
          "base_uri": "https://localhost:8080/"
        },
        "id": "aWXpro6JXHOU",
        "outputId": "69dc4d69-f681-4e75-e38c-4f9446db2228"
      },
      "outputs": [
        {
          "name": "stdout",
          "output_type": "stream",
          "text": [
            "[0, 1]\n",
            "(1, 512, 512, 3)\n"
          ]
        }
      ],
      "source": [
        "# Dataset for train images\n",
        "train_dataset = Dataset(train_images[:], train_masks)\n",
        "test_dataset  = Test_Dataset(test_images[:], test_masks)\n",
        "\n",
        "BATCH_SIZE=1\n",
        "train_dataloader = Dataloder(train_dataset, batch_size=1, shuffle=True)\n",
        "test_dataloader = Dataloder(test_dataset, batch_size=1, shuffle=True)\n",
        "\n",
        "print(train_dataloader[0][0].shape)\n",
        "#assert train_dataloader[0][0].shape == (BATCH_SIZE, 512, 512, 3)\n",
        "#assert train_dataloader[0][1].shape == (BATCH_SIZE, 512, 512, 2)"
      ]
    },
    {
      "cell_type": "markdown",
      "metadata": {
        "id": "dBoF0L-0p7hu"
      },
      "source": [
        "### Augumenting data"
      ]
    },
    {
      "cell_type": "code",
      "execution_count": null,
      "metadata": {
        "id": "bpqg2u5tp7hv"
      },
      "outputs": [],
      "source": [
        "#defining augumentations\n",
        "aug1 = iaa.Fliplr(1)\n",
        "aug2 = iaa.Flipud(1)\n",
        "aug3 = iaa.Emboss(alpha=(0.0, 1.0), strength=(0.5, 1.5))\n",
        "aug4 = iaa.DirectedEdgeDetect(alpha=(0.0, 0.5))"
      ]
    },
    {
      "cell_type": "code",
      "execution_count": null,
      "metadata": {
        "id": "-bMZSN5Bp7hv"
      },
      "outputs": [],
      "source": [
        "def normalize_image(mask):\n",
        "    mask = mask/255\n",
        "    return mask\n",
        "\n",
        "class Dataset:\n",
        "    # we will be modifying this CLASSES according to your data/problems\n",
        "    CLASSES = ['background', 'road']\n",
        "    \n",
        "    def __init__(self, image_path, mask_path, classes=CLASSES):\n",
        "        # the paths of images\n",
        "        self.images_fps   = image_path\n",
        "        # the paths of segmentation images\n",
        "        self.masks_fps    = mask_path\n",
        "        # giving labels for each class\n",
        "        self.class_values = [self.CLASSES.index(cls.lower()) for cls in classes]\n",
        "    \n",
        "    def __getitem__(self, i):\n",
        "        \n",
        "        # read data\n",
        "        image = cv2.imread(self.images_fps[i], cv2.IMREAD_UNCHANGED)\n",
        "        image = normalize_image(image)\n",
        "        #image = image.astype(np.float32)\n",
        "        mask  = cv2.imread(self.masks_fps[i], cv2.IMREAD_UNCHANGED)\n",
        "        #print(mask)\n",
        "        image_mask = mask[:,:,0]\n",
        "        #image_mask[image_mask==0] = 100\n",
        "        #image_mask = image_mask.astype(np.float32)\n",
        "        #image_mask = normalize_image(image_mask)\n",
        "\n",
        "        \n",
        "        image_masks = [(image_mask == v) for v in [255,0]]\n",
        "        image_mask = np.stack(image_masks, axis=-1).astype('float')\n",
        "   \n",
        "        a = np.random.uniform()\n",
        "        if a<0.2:\n",
        "            image = aug1.augment_image(image)\n",
        "            image_mask = aug1.augment_image(image_mask)\n",
        "        elif a<0.4:\n",
        "            image = aug2.augment_image(image)\n",
        "            image_mask = aug2.augment_image(image_mask)\n",
        "        elif a<0.6:\n",
        "            image = aug3.augment_image(image)\n",
        "            image_mask = aug3.augment_image(image_mask)\n",
        "        elif a<0.8:\n",
        "            image = aug4.augment_image(image)\n",
        "            image_mask = image_mask\n",
        "\n",
        "            \n",
        "        return image, image_mask\n",
        "        \n",
        "    def __len__(self):\n",
        "        return len(self.images_fps)\n",
        "    \n",
        "    \n",
        "class Dataloder(tf.keras.utils.Sequence):    \n",
        "    def __init__(self, dataset, batch_size=1, shuffle=False):\n",
        "        self.dataset = dataset\n",
        "        self.batch_size = batch_size\n",
        "        self.shuffle = shuffle\n",
        "        self.indexes = np.arange(len(dataset))\n",
        "\n",
        "    def __getitem__(self, i):\n",
        "        \n",
        "        # collect batch data\n",
        "        start = i * self.batch_size\n",
        "        stop = (i + 1) * self.batch_size\n",
        "        data = []\n",
        "        for j in range(start, stop):\n",
        "            data.append(self.dataset[j])\n",
        "        \n",
        "        batch = [np.stack(samples, axis=0) for samples in zip(*data)]\n",
        "        \n",
        "        return tuple(batch)\n",
        "    \n",
        "    def __len__(self):\n",
        "        return len(self.indexes) // self.batch_size\n",
        "    \n",
        "    def on_epoch_end(self):\n",
        "        if self.shuffle:\n",
        "            self.indexes = np.random.permutation(self.indexes)"
      ]
    },
    {
      "cell_type": "code",
      "execution_count": null,
      "metadata": {
        "id": "pqH7O2gwp7hy"
      },
      "outputs": [],
      "source": [
        "class Test_Dataset:\n",
        "    # we will be modifying this CLASSES according to your data/problems\n",
        "    CLASSES = ['background', 'road']\n",
        "    \n",
        "    def __init__(self, image_path, mask_path, classes=CLASSES):\n",
        "        # the paths of images\n",
        "        self.images_fps   = image_path\n",
        "        # the paths of segmentation images\n",
        "        self.masks_fps    = mask_path\n",
        "        # giving labels for each class\n",
        "        self.class_values = [self.CLASSES.index(cls.lower()) for cls in classes]\n",
        "        print(self.class_values)\n",
        "    \n",
        "    def __getitem__(self, i):\n",
        "        \n",
        "        # read data\n",
        "        image = cv2.imread(self.images_fps[i], cv2.IMREAD_UNCHANGED)\n",
        "        image = normalize_image(image)\n",
        "        #image = image.astype(np.float32)\n",
        "        #image = cv2.resize(image,(512,512),interpolation=cv2.INTER_NEAREST)\n",
        "        #image = cv2.cvtColor(image, cv2.COLOR_BGR2RGB)\n",
        "        #image = image[0:512, 0:512]\n",
        "        #img[y:y+h, x:x+w]\n",
        "        mask  = cv2.imread(self.masks_fps[i], cv2.IMREAD_UNCHANGED)\n",
        "        #mask = cv2.resize(mask,(512,512),interpolation=cv2.INTER_NEAREST)\n",
        "        #mask = mask[0:512,0:512]\n",
        "        #print(mask)\n",
        "        image_mask = mask[:,:,0]\n",
        "        #image_mask[image_mask==0] = 100\n",
        "        #image_mask = image_mask.astype(np.float32)\n",
        "        #image_mask = normalize_image(image_mask)\n",
        "\n",
        "        \n",
        "        image_masks = [(image_mask == v) for v in [255,0]]\n",
        "        image_mask = np.stack(image_masks, axis=-1).astype('float')\n",
        "\n",
        "            \n",
        "        return image, image_mask\n",
        "        \n",
        "    def __len__(self):\n",
        "        return len(self.images_fps)"
      ]
    },
    {
      "cell_type": "code",
      "execution_count": null,
      "metadata": {
        "colab": {
          "base_uri": "https://localhost:8080/"
        },
        "id": "QIZSqWhBp7h0",
        "outputId": "4c6d9b0f-5097-453a-f208-6305d2bf7d5d"
      },
      "outputs": [
        {
          "name": "stdout",
          "output_type": "stream",
          "text": [
            "[0, 1]\n",
            "(1, 512, 512, 3)\n"
          ]
        }
      ],
      "source": [
        "# Dataset for train images\n",
        "train_dataset = Dataset(train_images[:], train_masks)\n",
        "test_dataset  = Test_Dataset(test_images[:], test_masks)\n",
        "\n",
        "BATCH_SIZE=1\n",
        "train_dataloader = Dataloder(train_dataset, batch_size=1, shuffle=True)\n",
        "test_dataloader = Dataloder(test_dataset, batch_size=1, shuffle=True)\n",
        "\n",
        "print(train_dataloader[0][0].shape)\n",
        "assert train_dataloader[0][0].shape == (BATCH_SIZE, 512, 512, 3)\n",
        "assert train_dataloader[0][1].shape == (BATCH_SIZE, 512, 512, 2)"
      ]
    },
    {
      "cell_type": "markdown",
      "metadata": {
        "id": "Q406whmFMXTG"
      },
      "source": [
        "## Baseline model"
      ]
    },
    {
      "cell_type": "code",
      "execution_count": null,
      "metadata": {
        "id": "CHe_meqiMWea"
      },
      "outputs": [],
      "source": [
        "input_layer = layers.Input(shape=(512,512,3))\n",
        "x = layers.Conv2D(filters=32, kernel_size=(2, 2), activation='relu', padding='same')(input_layer)\n",
        "x = layers.Conv2D(filters=32, kernel_size=(3, 3), activation='relu', padding='same')(x)\n",
        "x = layers.Conv2D(filters=64, kernel_size=(3, 3), activation='relu', padding='same')(x)\n",
        "x = layers.Conv2D(filters=64, kernel_size=(3, 3), activation='relu', padding='same')(x)\n",
        "x = layers.Conv2D(filters=32, kernel_size=(3, 3), activation='relu', padding='same')(x)\n",
        "x = layers.Conv2D(filters=16, kernel_size=(3, 3), activation='relu', padding='same')(x)\n",
        "norm = layers.BatchNormalization(axis=3)(x)\n",
        "pred = layers.Dense(1, activation='sigmoid', kernel_initializer=tf.keras.initializers.HeNormal())(norm)"
      ]
    },
    {
      "cell_type": "code",
      "execution_count": null,
      "metadata": {
        "colab": {
          "base_uri": "https://localhost:8080/"
        },
        "id": "xrl1pUkPRQSk",
        "outputId": "85c89e37-78ba-4193-a502-75d66774f03e"
      },
      "outputs": [
        {
          "name": "stdout",
          "output_type": "stream",
          "text": [
            "Model: \"model_36\"\n",
            "_________________________________________________________________\n",
            " Layer (type)                Output Shape              Param #   \n",
            "=================================================================\n",
            " input_24 (InputLayer)       [(None, 512, 512, 3)]     0         \n",
            "                                                                 \n",
            " conv2d_138 (Conv2D)         (None, 512, 512, 32)      416       \n",
            "                                                                 \n",
            " conv2d_139 (Conv2D)         (None, 512, 512, 32)      9248      \n",
            "                                                                 \n",
            " conv2d_140 (Conv2D)         (None, 512, 512, 64)      18496     \n",
            "                                                                 \n",
            " conv2d_141 (Conv2D)         (None, 512, 512, 64)      36928     \n",
            "                                                                 \n",
            " conv2d_142 (Conv2D)         (None, 512, 512, 32)      18464     \n",
            "                                                                 \n",
            " conv2d_143 (Conv2D)         (None, 512, 512, 16)      4624      \n",
            "                                                                 \n",
            " batch_normalization_23 (Bat  (None, 512, 512, 16)     64        \n",
            " chNormalization)                                                \n",
            "                                                                 \n",
            " dense_23 (Dense)            (None, 512, 512, 1)       17        \n",
            "                                                                 \n",
            "=================================================================\n",
            "Total params: 88,257\n",
            "Trainable params: 88,225\n",
            "Non-trainable params: 32\n",
            "_________________________________________________________________\n"
          ]
        }
      ],
      "source": [
        "\n",
        "# https://github.com/qubvel/segmentation_models\n",
        "from segmentation_models.metrics import iou_score\n",
        "\n",
        "optim = tf.keras.optimizers.Adam(0.1)\n",
        "\n",
        "#focal_loss = sm.losses.cce_dice_loss\n",
        "focal_loss = dice_coef_loss\n",
        "\n",
        "# actulally total_loss can be imported directly from library, above example just show you how to manipulate with losses\n",
        "# total_loss = sm.losses.binary_focal_dice_loss \n",
        "# or total_loss = sm.losses.categorical_focal_dice_loss\n",
        "model = Model(inputs=input_layer,outputs=pred) \n",
        "\n",
        "model.compile(optim, focal_loss, metrics=[iou_score])\n",
        "model.summary()"
      ]
    },
    {
      "cell_type": "code",
      "execution_count": null,
      "metadata": {
        "colab": {
          "base_uri": "https://localhost:8080/"
        },
        "id": "lWhXGILURQSl",
        "outputId": "bb5160d4-0020-4fe1-d737-e5d79b97c54d"
      },
      "outputs": [
        {
          "name": "stdout",
          "output_type": "stream",
          "text": [
            "Epoch 1/5\n",
            "6127/6127 [==============================] - 1045s 171ms/step - loss: 0.5068 - iou_score: 0.5293 - val_loss: 0.5745 - val_iou_score: 0.5135\n",
            "Epoch 2/5\n",
            "6127/6127 [==============================] - 1045s 171ms/step - loss: 0.4331 - iou_score: 0.5807 - val_loss: 0.4321 - val_iou_score: 0.5906\n",
            "Epoch 3/5\n",
            "6127/6127 [==============================] - 1050s 171ms/step - loss: 0.4010 - iou_score: 0.6028 - val_loss: 0.4118 - val_iou_score: 0.5958\n",
            "Epoch 4/5\n",
            "6127/6127 [==============================] - 1054s 172ms/step - loss: 0.3821 - iou_score: 0.6166 - val_loss: 0.3880 - val_iou_score: 0.6129\n",
            "Epoch 5/5\n",
            "6127/6127 [==============================] - 1050s 171ms/step - loss: 0.3743 - iou_score: 0.6226 - val_loss: 0.3827 - val_iou_score: 0.6223\n"
          ]
        }
      ],
      "source": [
        "history = model.fit(train_dataloader, steps_per_epoch=len(train_dataloader), epochs=5, validation_data=test_dataloader)"
      ]
    },
    {
      "cell_type": "code",
      "execution_count": null,
      "metadata": {
        "id": "Bn4AN6k8kQ31"
      },
      "outputs": [],
      "source": [
        "#plotting base models predictions\n",
        "for i in range(10): \n",
        "  image = cv2.imread(test_images[i])\n",
        "  mask = cv2.imread(test_masks[i])\n",
        "  pred_mask = model.predict(image[np.newaxis,:,:,:])\n",
        "  plt.figure(figsize=(12,15))\n",
        "  plt.subplot(131)\n",
        "  plt.title('original image')\n",
        "  plt.imshow(image)\n",
        "  plt.subplot(132)\n",
        "  plt.title('original mask')\n",
        "  plt.imshow(mask)\n",
        "  plt.subplot(133)\n",
        "  plt.title('predicted mask')\n",
        "  plt.imshow(pred_mask[0,:,:,0])"
      ]
    },
    {
      "cell_type": "code",
      "execution_count": null,
      "metadata": {
        "colab": {
          "base_uri": "https://localhost:8080/"
        },
        "id": "FNruFYkTmHAe",
        "outputId": "be267c9d-85bf-4a87-faf7-0da6eeeff9b7"
      },
      "outputs": [
        {
          "name": "stdout",
          "output_type": "stream",
          "text": [
            "INFO:tensorflow:Assets written to: ram://1d778fc0-79c2-495a-a68c-3cc2f8e707a7/assets\n"
          ]
        }
      ],
      "source": [
        "import pickle\n",
        "with open('base_model.pkl', 'wb') as files:\n",
        "    pickle.dump(model, files)"
      ]
    },
    {
      "cell_type": "code",
      "execution_count": null,
      "metadata": {
        "id": "ZIvEOs5kqwDJ"
      },
      "outputs": [],
      "source": [
        "new_model = keras.models.load_model('/content/content/save/base', {'iou_score':iou_score, 'categorical_crossentropy_plus_dice_loss':focal_loss})"
      ]
    },
    {
      "cell_type": "markdown",
      "metadata": {
        "id": "EpjgEjK_WTJL"
      },
      "source": [
        "### Augumenting data"
      ]
    },
    {
      "cell_type": "code",
      "execution_count": null,
      "metadata": {
        "id": "KRu3EvEkhRSr"
      },
      "outputs": [],
      "source": [
        "#defining augumentations\n",
        "aug1 = iaa.Fliplr(1)\n",
        "aug2 = iaa.Flipud(1)\n",
        "aug3 = iaa.Emboss(alpha=(0.0, 1.0), strength=(0.5, 1.5))\n",
        "aug4 = iaa.DirectedEdgeDetect(alpha=(0.0, 0.5))"
      ]
    },
    {
      "cell_type": "code",
      "execution_count": null,
      "metadata": {
        "id": "1h3aKcrWXHOS"
      },
      "outputs": [],
      "source": [
        "def normalize_image(mask):\n",
        "    mask = mask/255\n",
        "    return mask\n",
        "\n",
        "class Dataset:\n",
        "    # we will be modifying this CLASSES according to your data/problems\n",
        "    CLASSES = ['background', 'road']\n",
        "    \n",
        "    def __init__(self, image_path, mask_path, classes=CLASSES):\n",
        "        # the paths of images\n",
        "        self.images_fps   = image_path\n",
        "        # the paths of segmentation images\n",
        "        self.masks_fps    = mask_path\n",
        "        # giving labels for each class\n",
        "        self.class_values = [self.CLASSES.index(cls.lower()) for cls in classes]\n",
        "    \n",
        "    def __getitem__(self, i):\n",
        "        \n",
        "        # read data\n",
        "        image = cv2.imread(self.images_fps[i], cv2.IMREAD_UNCHANGED)\n",
        "        #image = image.astype(np.float32)\n",
        "        image = normalize_image(image)\n",
        "        mask  = cv2.imread(self.masks_fps[i], cv2.IMREAD_UNCHANGED)\n",
        "        image_mask = mask[:,:,0]\n",
        "        image_mask[image_mask==0] = 0\n",
        "        #image_mask[image_mask==255] = 100\n",
        "        #image_mask = image_mask.astype(np.float32)\n",
        "        #image_mask = normalize_image(image_mask)\n",
        "\n",
        "        \n",
        "        image_masks = [(image_mask == v) for v in [255,0]]\n",
        "        image_mask = np.stack(image_masks, axis=-1).astype('float')\n",
        "        #image_mask = normalize_image(image_mask)\n",
        "\n",
        "            \n",
        "        return image, image_mask\n",
        "        \n",
        "    def __len__(self):\n",
        "        return len(self.images_fps)\n",
        "    \n",
        "    \n",
        "class Dataloder(tf.keras.utils.Sequence):    \n",
        "    def __init__(self, dataset, batch_size=1, shuffle=False):\n",
        "        self.dataset = dataset\n",
        "        self.batch_size = batch_size\n",
        "        self.shuffle = shuffle\n",
        "        self.indexes = np.arange(len(dataset))\n",
        "\n",
        "    def __getitem__(self, i):\n",
        "        \n",
        "        # collect batch data\n",
        "        start = i * self.batch_size\n",
        "        stop = (i + 1) * self.batch_size\n",
        "        data = []\n",
        "        for j in range(start, stop):\n",
        "            data.append(self.dataset[j])\n",
        "        \n",
        "        batch = [np.stack(samples, axis=0) for samples in zip(*data)]\n",
        "        \n",
        "        return tuple(batch)\n",
        "    \n",
        "    def __len__(self):\n",
        "        return len(self.indexes) // self.batch_size\n",
        "    \n",
        "    def on_epoch_end(self):\n",
        "        if self.shuffle:\n",
        "            self.indexes = np.random.permutation(self.indexes)"
      ]
    },
    {
      "cell_type": "code",
      "execution_count": null,
      "metadata": {
        "colab": {
          "base_uri": "https://localhost:8080/"
        },
        "id": "6ntQabmVh3KC",
        "outputId": "da3a6029-e6fa-450e-cba1-00c7c649df4c"
      },
      "outputs": [
        {
          "name": "stdout",
          "output_type": "stream",
          "text": [
            "[0, 1]\n",
            "(1, 512, 512, 3)\n"
          ]
        }
      ],
      "source": [
        "# Dataset for train images\n",
        "train_dataset = Dataset(train_images[:], train_masks)\n",
        "test_dataset  = Test_Dataset(test_images[:], test_masks)\n",
        "\n",
        "BATCH_SIZE=1\n",
        "train_dataloader = Dataloder(train_dataset, batch_size=1, shuffle=True)\n",
        "test_dataloader = Dataloder(test_dataset, batch_size=1, shuffle=True)\n",
        "\n",
        "print(train_dataloader[0][0].shape)\n",
        "assert train_dataloader[0][0].shape == (BATCH_SIZE, 512, 512, 3)\n",
        "assert train_dataloader[0][1].shape == (BATCH_SIZE, 512, 512, 2)"
      ]
    },
    {
      "cell_type": "code",
      "execution_count": null,
      "metadata": {
        "colab": {
          "base_uri": "https://localhost:8080/",
          "height": 286
        },
        "id": "x3CH92wUvl0o",
        "outputId": "3e30f97b-6ed9-4059-8bfb-f63ca948ff8e"
      },
      "outputs": [
        {
          "data": {
            "text/plain": [
              "<matplotlib.image.AxesImage at 0x7f47e5cb6cd0>"
            ]
          },
          "execution_count": 83,
          "metadata": {},
          "output_type": "execute_result"
        },
        {
          "data": {
            "image/png": "[encoded data removed]",
            "text/plain": [
              "<Figure size 432x288 with 1 Axes>"
            ]
          },
          "metadata": {
            "needs_background": "light"
          },
          "output_type": "display_data"
        }
      ],
      "source": [
        "plt.imshow(train_dataloader[0][1][0,:,:,0])"
      ]
    },
    {
      "cell_type": "code",
      "execution_count": null,
      "metadata": {
        "colab": {
          "base_uri": "https://localhost:8080/",
          "height": 286
        },
        "id": "MfSOMcHkv3_z",
        "outputId": "e3faad52-7be0-4cf0-b20b-af9b22970653"
      },
      "outputs": [
        {
          "data": {
            "text/plain": [
              "<matplotlib.image.AxesImage at 0x7f47e5c24450>"
            ]
          },
          "execution_count": 84,
          "metadata": {},
          "output_type": "execute_result"
        },
        {
          "data": {
            "image/png": "[encoded data removed]",
            "text/plain": [
              "<Figure size 432x288 with 1 Axes>"
            ]
          },
          "metadata": {
            "needs_background": "light"
          },
          "output_type": "display_data"
        }
      ],
      "source": [
        "plt.imshow(train_dataloader[0][1][0,:,:,1])"
      ]
    },
    {
      "cell_type": "markdown",
      "metadata": {
        "id": "hGZgWg8krOGY"
      },
      "source": [
        ""
      ]
    },
    {
      "cell_type": "markdown",
      "metadata": {
        "id": "tiAoRtri8m36"
      },
      "source": [
        "###Custom-Unet"
      ]
    },
    {
      "cell_type": "code",
      "execution_count": null,
      "metadata": {
        "id": "qe4ihYgE8qvK"
      },
      "outputs": [],
      "source": [
        "from tensorflow.keras.layers import Conv2D, MaxPooling2D, Conv2DTranspose, Concatenate,BatchNormalization, Activation, Dropout\n",
        "#reference https://github.com/zhixuhao/unet/blob/master/model.py\n",
        "\n",
        "input_layer = layers.Input(shape=(512,512,3))\n",
        "x = Conv2D(64, (3, 3), padding='same', name='block1_conv1')(input_layer)\n",
        "x = BatchNormalization()(x)\n",
        "x = Activation('relu')(x)\n",
        "x = Conv2D(64, (3, 3), padding='same', name='block1_conv2')(x)\n",
        "x = BatchNormalization()(x)\n",
        "block_1_out = Activation('relu')(x)\n",
        "x = MaxPooling2D()(block_1_out)\n",
        "x = Dropout(0.2)(x)\n",
        "\n",
        "# Block 2\n",
        "x = Conv2D(128, (3, 3), padding='same', name='block2_conv1')(x)\n",
        "x = BatchNormalization()(x)\n",
        "x = Activation('relu')(x)\n",
        "x = Conv2D(128, (3, 3), padding='same', name='block2_conv2')(x)\n",
        "x = BatchNormalization()(x)\n",
        "block_2_out = Activation('relu')(x)\n",
        "x = MaxPooling2D()(block_2_out)\n",
        "x = Dropout(0.2)(x)\n",
        "\n",
        "# Block 3\n",
        "x = Conv2D(256, (3, 3), padding='same', name='block3_conv1')(x)\n",
        "x = BatchNormalization()(x)\n",
        "x = Activation('relu')(x)\n",
        "x = Conv2D(256, (3, 3), padding='same', name='block3_conv2')(x)\n",
        "x = BatchNormalization()(x)\n",
        "x = Activation('relu')(x)\n",
        "x = Conv2D(256, (3, 3), padding='same', name='block3_conv3')(x)\n",
        "x = BatchNormalization()(x)\n",
        "block_3_out = Activation('relu')(x)\n",
        "x = MaxPooling2D()(block_3_out)\n",
        "x = Dropout(0.2)(x)\n",
        "\n",
        "# Block 4\n",
        "x = Conv2D(512, (3, 3), padding='same', name='block4_conv1')(x)\n",
        "x = BatchNormalization()(x)\n",
        "x = Activation('relu')(x)\n",
        "x = Conv2D(512, (3, 3), padding='same', name='block4_conv2')(x)\n",
        "x = BatchNormalization()(x)\n",
        "x = Activation('relu')(x)\n",
        "x = Conv2D(512, (3, 3), padding='same', name='block4_conv3')(x)\n",
        "x = BatchNormalization()(x)\n",
        "x = Dropout(0.2)(x)\n",
        "\n",
        "block_4_out = Activation('relu')(x)\n",
        "\n",
        "x = Conv2DTranspose(256, (2, 2), strides=(2, 2), padding='same', name = 'Conv2DTranspose_UP2')(block_4_out)\n",
        "x = BatchNormalization()(x)\n",
        "x = Activation('relu')(x)\n",
        "x = Concatenate()([x, block_3_out])\n",
        "x = Conv2D(256, (3, 3), padding='same')(x)\n",
        "x = BatchNormalization()(x)\n",
        "x = Activation('relu')(x)\n",
        "x = Conv2D(256, (3, 3), padding='same')(x)\n",
        "x = BatchNormalization()(x)\n",
        "x = Activation('relu')(x)\n",
        "x = Dropout(0.2)(x)\n",
        "\n",
        "# UP 3\n",
        "x = Conv2DTranspose(64, (2, 2), strides=(2, 2), padding='same', name = 'Conv2DTranspose_UP3')(x)\n",
        "x = BatchNormalization()(x)\n",
        "x = Activation('relu')(x)\n",
        "x = Concatenate()([x, block_2_out])\n",
        "x = Conv2D(128, (3, 3), padding='same')(x)\n",
        "x = BatchNormalization()(x)\n",
        "x = Activation('relu')(x)\n",
        "x = Conv2D(128, (3, 3), padding='same')(x)\n",
        "x = BatchNormalization()(x)\n",
        "x = Activation('relu')(x)\n",
        "x = Dropout(0.2)(x)\n",
        "\n",
        "# UP 4\n",
        "x = Conv2DTranspose(64, (2, 2), strides=(2, 2), padding='same', name = 'Conv2DTranspose_UP4')(x)\n",
        "x = BatchNormalization()(x)\n",
        "x = Activation('relu')(x)\n",
        "x = Concatenate()([x, block_1_out])\n",
        "x = Conv2D(64, (3, 3), padding='same')(x)\n",
        "x = BatchNormalization()(x)\n",
        "x = Activation('relu')(x)\n",
        "x = Conv2D(64, (3, 3), padding='same')(x)\n",
        "x = BatchNormalization()(x)\n",
        "x = Activation('relu')(x)\n",
        "x = Dropout(0.2)(x)\n",
        "pred = Conv2D(2, (3, 3), activation='softmax', padding='same')(x)\n",
        "\n",
        "model = Model(inputs=[input_layer], outputs=[pred])"
      ]
    },
    {
      "cell_type": "code",
      "execution_count": null,
      "metadata": {
        "colab": {
          "base_uri": "https://localhost:8080/"
        },
        "id": "9DG6HePI8q5W",
        "outputId": "083689fe-309d-49a5-a769-27bf89af021a"
      },
      "outputs": [
        {
          "name": "stdout",
          "output_type": "stream",
          "text": [
            "Model: \"model_2\"\n",
            "__________________________________________________________________________________________________\n",
            " Layer (type)                   Output Shape         Param #     Connected to                     \n",
            "==================================================================================================\n",
            " input_3 (InputLayer)           [(None, 512, 512, 3  0           []                               \n",
            "                                )]                                                                \n",
            "                                                                                                  \n",
            " block1_conv1 (Conv2D)          (None, 512, 512, 64  1792        ['input_3[0][0]']                \n",
            "                                )                                                                 \n",
            "                                                                                                  \n",
            " batch_normalization_38 (BatchN  (None, 512, 512, 64  256        ['block1_conv1[0][0]']           \n",
            " ormalization)                  )                                                                 \n",
            "                                                                                                  \n",
            " activation_38 (Activation)     (None, 512, 512, 64  0           ['batch_normalization_38[0][0]'] \n",
            "                                )                                                                 \n",
            "                                                                                                  \n",
            " block1_conv2 (Conv2D)          (None, 512, 512, 64  36928       ['activation_38[0][0]']          \n",
            "                                )                                                                 \n",
            "                                                                                                  \n",
            " batch_normalization_39 (BatchN  (None, 512, 512, 64  256        ['block1_conv2[0][0]']           \n",
            " ormalization)                  )                                                                 \n",
            "                                                                                                  \n",
            " activation_39 (Activation)     (None, 512, 512, 64  0           ['batch_normalization_39[0][0]'] \n",
            "                                )                                                                 \n",
            "                                                                                                  \n",
            " max_pooling2d_6 (MaxPooling2D)  (None, 256, 256, 64  0          ['activation_39[0][0]']          \n",
            "                                )                                                                 \n",
            "                                                                                                  \n",
            " dropout_14 (Dropout)           (None, 256, 256, 64  0           ['max_pooling2d_6[0][0]']        \n",
            "                                )                                                                 \n",
            "                                                                                                  \n",
            " block2_conv1 (Conv2D)          (None, 256, 256, 12  73856       ['dropout_14[0][0]']             \n",
            "                                8)                                                                \n",
            "                                                                                                  \n",
            " batch_normalization_40 (BatchN  (None, 256, 256, 12  512        ['block2_conv1[0][0]']           \n",
            " ormalization)                  8)                                                                \n",
            "                                                                                                  \n",
            " activation_40 (Activation)     (None, 256, 256, 12  0           ['batch_normalization_40[0][0]'] \n",
            "                                8)                                                                \n",
            "                                                                                                  \n",
            " block2_conv2 (Conv2D)          (None, 256, 256, 12  147584      ['activation_40[0][0]']          \n",
            "                                8)                                                                \n",
            "                                                                                                  \n",
            " batch_normalization_41 (BatchN  (None, 256, 256, 12  512        ['block2_conv2[0][0]']           \n",
            " ormalization)                  8)                                                                \n",
            "                                                                                                  \n",
            " activation_41 (Activation)     (None, 256, 256, 12  0           ['batch_normalization_41[0][0]'] \n",
            "                                8)                                                                \n",
            "                                                                                                  \n",
            " max_pooling2d_7 (MaxPooling2D)  (None, 128, 128, 12  0          ['activation_41[0][0]']          \n",
            "                                8)                                                                \n",
            "                                                                                                  \n",
            " dropout_15 (Dropout)           (None, 128, 128, 12  0           ['max_pooling2d_7[0][0]']        \n",
            "                                8)                                                                \n",
            "                                                                                                  \n",
            " block3_conv1 (Conv2D)          (None, 128, 128, 25  295168      ['dropout_15[0][0]']             \n",
            "                                6)                                                                \n",
            "                                                                                                  \n",
            " batch_normalization_42 (BatchN  (None, 128, 128, 25  1024       ['block3_conv1[0][0]']           \n",
            " ormalization)                  6)                                                                \n",
            "                                                                                                  \n",
            " activation_42 (Activation)     (None, 128, 128, 25  0           ['batch_normalization_42[0][0]'] \n",
            "                                6)                                                                \n",
            "                                                                                                  \n",
            " block3_conv2 (Conv2D)          (None, 128, 128, 25  590080      ['activation_42[0][0]']          \n",
            "                                6)                                                                \n",
            "                                                                                                  \n",
            " batch_normalization_43 (BatchN  (None, 128, 128, 25  1024       ['block3_conv2[0][0]']           \n",
            " ormalization)                  6)                                                                \n",
            "                                                                                                  \n",
            " activation_43 (Activation)     (None, 128, 128, 25  0           ['batch_normalization_43[0][0]'] \n",
            "                                6)                                                                \n",
            "                                                                                                  \n",
            " block3_conv3 (Conv2D)          (None, 128, 128, 25  590080      ['activation_43[0][0]']          \n",
            "                                6)                                                                \n",
            "                                                                                                  \n",
            " batch_normalization_44 (BatchN  (None, 128, 128, 25  1024       ['block3_conv3[0][0]']           \n",
            " ormalization)                  6)                                                                \n",
            "                                                                                                  \n",
            " activation_44 (Activation)     (None, 128, 128, 25  0           ['batch_normalization_44[0][0]'] \n",
            "                                6)                                                                \n",
            "                                                                                                  \n",
            " max_pooling2d_8 (MaxPooling2D)  (None, 64, 64, 256)  0          ['activation_44[0][0]']          \n",
            "                                                                                                  \n",
            " dropout_16 (Dropout)           (None, 64, 64, 256)  0           ['max_pooling2d_8[0][0]']        \n",
            "                                                                                                  \n",
            " block4_conv1 (Conv2D)          (None, 64, 64, 512)  1180160     ['dropout_16[0][0]']             \n",
            "                                                                                                  \n",
            " batch_normalization_45 (BatchN  (None, 64, 64, 512)  2048       ['block4_conv1[0][0]']           \n",
            " ormalization)                                                                                    \n",
            "                                                                                                  \n",
            " activation_45 (Activation)     (None, 64, 64, 512)  0           ['batch_normalization_45[0][0]'] \n",
            "                                                                                                  \n",
            " block4_conv2 (Conv2D)          (None, 64, 64, 512)  2359808     ['activation_45[0][0]']          \n",
            "                                                                                                  \n",
            " batch_normalization_46 (BatchN  (None, 64, 64, 512)  2048       ['block4_conv2[0][0]']           \n",
            " ormalization)                                                                                    \n",
            "                                                                                                  \n",
            " activation_46 (Activation)     (None, 64, 64, 512)  0           ['batch_normalization_46[0][0]'] \n",
            "                                                                                                  \n",
            " block4_conv3 (Conv2D)          (None, 64, 64, 512)  2359808     ['activation_46[0][0]']          \n",
            "                                                                                                  \n",
            " batch_normalization_47 (BatchN  (None, 64, 64, 512)  2048       ['block4_conv3[0][0]']           \n",
            " ormalization)                                                                                    \n",
            "                                                                                                  \n",
            " dropout_17 (Dropout)           (None, 64, 64, 512)  0           ['batch_normalization_47[0][0]'] \n",
            "                                                                                                  \n",
            " activation_47 (Activation)     (None, 64, 64, 512)  0           ['dropout_17[0][0]']             \n",
            "                                                                                                  \n",
            " Conv2DTranspose_UP2 (Conv2DTra  (None, 128, 128, 25  524544     ['activation_47[0][0]']          \n",
            " nspose)                        6)                                                                \n",
            "                                                                                                  \n",
            " batch_normalization_48 (BatchN  (None, 128, 128, 25  1024       ['Conv2DTranspose_UP2[0][0]']    \n",
            " ormalization)                  6)                                                                \n",
            "                                                                                                  \n",
            " activation_48 (Activation)     (None, 128, 128, 25  0           ['batch_normalization_48[0][0]'] \n",
            "                                6)                                                                \n",
            "                                                                                                  \n",
            " concatenate_6 (Concatenate)    (None, 128, 128, 51  0           ['activation_48[0][0]',          \n",
            "                                2)                                'activation_44[0][0]']          \n",
            "                                                                                                  \n",
            " conv2d_14 (Conv2D)             (None, 128, 128, 25  1179904     ['concatenate_6[0][0]']          \n",
            "                                6)                                                                \n",
            "                                                                                                  \n",
            " batch_normalization_49 (BatchN  (None, 128, 128, 25  1024       ['conv2d_14[0][0]']              \n",
            " ormalization)                  6)                                                                \n",
            "                                                                                                  \n",
            " activation_49 (Activation)     (None, 128, 128, 25  0           ['batch_normalization_49[0][0]'] \n",
            "                                6)                                                                \n",
            "                                                                                                  \n",
            " conv2d_15 (Conv2D)             (None, 128, 128, 25  590080      ['activation_49[0][0]']          \n",
            "                                6)                                                                \n",
            "                                                                                                  \n",
            " batch_normalization_50 (BatchN  (None, 128, 128, 25  1024       ['conv2d_15[0][0]']              \n",
            " ormalization)                  6)                                                                \n",
            "                                                                                                  \n",
            " activation_50 (Activation)     (None, 128, 128, 25  0           ['batch_normalization_50[0][0]'] \n",
            "                                6)                                                                \n",
            "                                                                                                  \n",
            " dropout_18 (Dropout)           (None, 128, 128, 25  0           ['activation_50[0][0]']          \n",
            "                                6)                                                                \n",
            "                                                                                                  \n",
            " Conv2DTranspose_UP3 (Conv2DTra  (None, 256, 256, 64  65600      ['dropout_18[0][0]']             \n",
            " nspose)                        )                                                                 \n",
            "                                                                                                  \n",
            " batch_normalization_51 (BatchN  (None, 256, 256, 64  256        ['Conv2DTranspose_UP3[0][0]']    \n",
            " ormalization)                  )                                                                 \n",
            "                                                                                                  \n",
            " activation_51 (Activation)     (None, 256, 256, 64  0           ['batch_normalization_51[0][0]'] \n",
            "                                )                                                                 \n",
            "                                                                                                  \n",
            " concatenate_7 (Concatenate)    (None, 256, 256, 19  0           ['activation_51[0][0]',          \n",
            "                                2)                                'activation_41[0][0]']          \n",
            "                                                                                                  \n",
            " conv2d_16 (Conv2D)             (None, 256, 256, 12  221312      ['concatenate_7[0][0]']          \n",
            "                                8)                                                                \n",
            "                                                                                                  \n",
            " batch_normalization_52 (BatchN  (None, 256, 256, 12  512        ['conv2d_16[0][0]']              \n",
            " ormalization)                  8)                                                                \n",
            "                                                                                                  \n",
            " activation_52 (Activation)     (None, 256, 256, 12  0           ['batch_normalization_52[0][0]'] \n",
            "                                8)                                                                \n",
            "                                                                                                  \n",
            " conv2d_17 (Conv2D)             (None, 256, 256, 12  147584      ['activation_52[0][0]']          \n",
            "                                8)                                                                \n",
            "                                                                                                  \n",
            " batch_normalization_53 (BatchN  (None, 256, 256, 12  512        ['conv2d_17[0][0]']              \n",
            " ormalization)                  8)                                                                \n",
            "                                                                                                  \n",
            " activation_53 (Activation)     (None, 256, 256, 12  0           ['batch_normalization_53[0][0]'] \n",
            "                                8)                                                                \n",
            "                                                                                                  \n",
            " dropout_19 (Dropout)           (None, 256, 256, 12  0           ['activation_53[0][0]']          \n",
            "                                8)                                                                \n",
            "                                                                                                  \n",
            " Conv2DTranspose_UP4 (Conv2DTra  (None, 512, 512, 64  32832      ['dropout_19[0][0]']             \n",
            " nspose)                        )                                                                 \n",
            "                                                                                                  \n",
            " batch_normalization_54 (BatchN  (None, 512, 512, 64  256        ['Conv2DTranspose_UP4[0][0]']    \n",
            " ormalization)                  )                                                                 \n",
            "                                                                                                  \n",
            " activation_54 (Activation)     (None, 512, 512, 64  0           ['batch_normalization_54[0][0]'] \n",
            "                                )                                                                 \n",
            "                                                                                                  \n",
            " concatenate_8 (Concatenate)    (None, 512, 512, 12  0           ['activation_54[0][0]',          \n",
            "                                8)                                'activation_39[0][0]']          \n",
            "                                                                                                  \n",
            " conv2d_18 (Conv2D)             (None, 512, 512, 64  73792       ['concatenate_8[0][0]']          \n",
            "                                )                                                                 \n",
            "                                                                                                  \n",
            " batch_normalization_55 (BatchN  (None, 512, 512, 64  256        ['conv2d_18[0][0]']              \n",
            " ormalization)                  )                                                                 \n",
            "                                                                                                  \n",
            " activation_55 (Activation)     (None, 512, 512, 64  0           ['batch_normalization_55[0][0]'] \n",
            "                                )                                                                 \n",
            "                                                                                                  \n",
            " conv2d_19 (Conv2D)             (None, 512, 512, 64  36928       ['activation_55[0][0]']          \n",
            "                                )                                                                 \n",
            "                                                                                                  \n",
            " batch_normalization_56 (BatchN  (None, 512, 512, 64  256        ['conv2d_19[0][0]']              \n",
            " ormalization)                  )                                                                 \n",
            "                                                                                                  \n",
            " activation_56 (Activation)     (None, 512, 512, 64  0           ['batch_normalization_56[0][0]'] \n",
            "                                )                                                                 \n",
            "                                                                                                  \n",
            " dropout_20 (Dropout)           (None, 512, 512, 64  0           ['activation_56[0][0]']          \n",
            "                                )                                                                 \n",
            "                                                                                                  \n",
            " conv2d_20 (Conv2D)             (None, 512, 512, 2)  1154        ['dropout_20[0][0]']             \n",
            "                                                                                                  \n",
            "==================================================================================================\n",
            "Total params: 10,524,866\n",
            "Trainable params: 10,516,930\n",
            "Non-trainable params: 7,936\n",
            "__________________________________________________________________________________________________\n"
          ]
        }
      ],
      "source": [
        "# https://github.com/qubvel/segmentation_models\n",
        "from segmentation_models.metrics import iou_score\n",
        "\n",
        "optim = tf.keras.optimizers.Adam(0.0001)\n",
        "\n",
        "focal_loss = sm.losses.cce_dice_loss\n",
        "#focal_loss = dice_coef_loss\n",
        "\n",
        "# actulally total_loss can be imported directly from library, above example just show you how to manipulate with losses\n",
        "# total_loss = sm.losses.binary_focal_dice_loss \n",
        "# or total_loss = sm.losses.categorical_focal_dice_loss \n",
        "\n",
        "model.compile(optim, focal_loss, metrics=[iou_score])\n",
        "#model.summary()\n",
        "\n",
        "callbacks = [\n",
        "    tf.keras.callbacks.ReduceLROnPlateau(monitor='val_iou_score', min_lr=0.000001,patience=1)\n",
        "]\n",
        "\n",
        "model.summary()"
      ]
    },
    {
      "cell_type": "code",
      "execution_count": null,
      "metadata": {
        "colab": {
          "base_uri": "https://localhost:8080/"
        },
        "id": "xCJTgZhW82NS",
        "outputId": "831faa93-21da-4d14-dae8-755fd9e32786"
      },
      "outputs": [
        {
          "name": "stdout",
          "output_type": "stream",
          "text": [
            "6127/6127 [==============================] - 1810s 295ms/step - loss: 0.2341 - iou_score: 0.7415 - val_loss: 0.2458 - val_iou_score: 0.7339 - lr: 1.0000e-04\n"
          ]
        },
        {
          "data": {
            "text/plain": [
              "<keras.callbacks.History at 0x7f74a0163a10>"
            ]
          },
          "execution_count": 53,
          "metadata": {},
          "output_type": "execute_result"
        }
      ],
      "source": [
        "model.fit(train_dataloader, steps_per_epoch=len(train_dataloader), epochs=1, validation_data=test_dataloader, callbacks = [callbacks])"
      ]
    },
    {
      "cell_type": "code",
      "execution_count": null,
      "metadata": {
        "colab": {
          "base_uri": "https://localhost:8080/"
        },
        "id": "rZ5rVx-55Epz",
        "outputId": "3cf8c546-7c19-48ce-cf9b-839512f91d6e"
      },
      "outputs": [
        {
          "name": "stdout",
          "output_type": "stream",
          "text": [
            "INFO:tensorflow:Assets written to: model1/unet_10mil/assets\n"
          ]
        }
      ],
      "source": [
        "model.save('model1/unet_10mil',save_format='tf')"
      ]
    },
    {
      "cell_type": "code",
      "execution_count": null,
      "metadata": {
        "colab": {
          "base_uri": "https://localhost:8080/",
          "height": 35
        },
        "id": "DI3HwpVp5EqC",
        "outputId": "9aa294b3-1c17-45dd-ba3b-bb239f667dbc"
      },
      "outputs": [
        {
          "data": {
            "application/vnd.google.colaboratory.intrinsic+json": {
              "type": "string"
            },
            "text/plain": [
              "'/content/unet10mil.zip'"
            ]
          },
          "execution_count": 55,
          "metadata": {},
          "output_type": "execute_result"
        }
      ],
      "source": [
        "import shutil\n",
        "shutil.make_archive('unet10mil', 'zip', '/content/model1/unet_10mil')"
      ]
    },
    {
      "cell_type": "code",
      "execution_count": null,
      "metadata": {
        "id": "qIrKNz_LNoeU"
      },
      "outputs": [],
      "source": [
        "#plotting base models predictions\n",
        "for i in range(10, 20): \n",
        "  image = cv2.imread(test_images[i])\n",
        "  image = image/255\n",
        "  mask = cv2.imread(test_masks[i])\n",
        "  pred_mask = model.predict(image[np.newaxis,:,:,:])\n",
        "  plt.figure(figsize=(12,15))\n",
        "  plt.subplot(131)\n",
        "  plt.title('original image')\n",
        "  plt.imshow(image)\n",
        "  plt.subplot(132)\n",
        "  plt.title('original mask')\n",
        "  plt.imshow(mask)\n",
        "  plt.subplot(133)\n",
        "  plt.title('predicted mask')\n",
        "  plt.imshow(pred_mask[0,:,:,0])"
      ]
    },
    {
      "cell_type": "code",
      "execution_count": null,
      "metadata": {
        "colab": {
          "base_uri": "https://localhost:8080/"
        },
        "id": "_IwLrHfRO_A_",
        "outputId": "31a07ef3-a840-45e3-d3f8-11141b59efe0"
      },
      "outputs": [
        {
          "name": "stdout",
          "output_type": "stream",
          "text": [
            "/content/cropped/images/1_24329230_15.tiff /content/cropped/lables/1_24329230_15.tiff\n",
            "/content/cropped/images/2_24478810_15.tiff /content/cropped/lables/2_24478810_15.tiff\n",
            "/content/cropped/images/0_24929230_15.tiff /content/cropped/lables/0_24929230_15.tiff\n",
            "/content/cropped/images/6_22528990_15.tiff /content/cropped/lables/6_22528990_15.tiff\n",
            "/content/cropped/images/6_15928855_15.tiff /content/cropped/lables/6_15928855_15.tiff\n",
            "/content/cropped/images/6_24328780_15.tiff /content/cropped/lables/6_24328780_15.tiff\n",
            "/content/cropped/images/0_22528900_15.tiff /content/cropped/lables/0_22528900_15.tiff\n",
            "/content/cropped/images/5_21028945_15.tiff /content/cropped/lables/5_21028945_15.tiff\n",
            "/content/cropped/images/7_11428705_15.tiff /content/cropped/lables/7_11428705_15.tiff\n",
            "/content/cropped/images/1_22529065_15.tiff /content/cropped/lables/1_22529065_15.tiff\n"
          ]
        }
      ],
      "source": [
        "for i in range(10, 20): \n",
        "  print(test_images[i], test_masks[i])\n",
        "  "
      ]
    },
    {
      "cell_type": "markdown",
      "metadata": {
        "id": "qzVqRA40WcA8"
      },
      "source": [
        "### U-net with resnet34 as encoder"
      ]
    },
    {
      "cell_type": "code",
      "execution_count": null,
      "metadata": {
        "colab": {
          "base_uri": "https://localhost:8080/"
        },
        "id": "g94PyDHpm-5y",
        "outputId": "bea6c4c2-0de7-4c36-86f6-85de84f64459"
      },
      "outputs": [
        {
          "name": "stdout",
          "output_type": "stream",
          "text": [
            "Requirement already satisfied: segmentation-models in /usr/local/lib/python3.7/dist-packages (1.0.1)\n",
            "Requirement already satisfied: efficientnet==1.0.0 in /usr/local/lib/python3.7/dist-packages (from segmentation-models) (1.0.0)\n",
            "Requirement already satisfied: image-classifiers==1.0.0 in /usr/local/lib/python3.7/dist-packages (from segmentation-models) (1.0.0)\n",
            "Requirement already satisfied: keras-applications<=1.0.8,>=1.0.7 in /usr/local/lib/python3.7/dist-packages (from segmentation-models) (1.0.8)\n",
            "Requirement already satisfied: scikit-image in /usr/local/lib/python3.7/dist-packages (from efficientnet==1.0.0->segmentation-models) (0.18.3)\n",
            "Requirement already satisfied: numpy>=1.9.1 in /usr/local/lib/python3.7/dist-packages (from keras-applications<=1.0.8,>=1.0.7->segmentation-models) (1.21.5)\n",
            "Requirement already satisfied: h5py in /usr/local/lib/python3.7/dist-packages (from keras-applications<=1.0.8,>=1.0.7->segmentation-models) (3.1.0)\n",
            "Requirement already satisfied: cached-property in /usr/local/lib/python3.7/dist-packages (from h5py->keras-applications<=1.0.8,>=1.0.7->segmentation-models) (1.5.2)\n",
            "Requirement already satisfied: networkx>=2.0 in /usr/local/lib/python3.7/dist-packages (from scikit-image->efficientnet==1.0.0->segmentation-models) (2.6.3)\n",
            "Requirement already satisfied: tifffile>=2019.7.26 in /usr/local/lib/python3.7/dist-packages (from scikit-image->efficientnet==1.0.0->segmentation-models) (2021.11.2)\n",
            "Requirement already satisfied: PyWavelets>=1.1.1 in /usr/local/lib/python3.7/dist-packages (from scikit-image->efficientnet==1.0.0->segmentation-models) (1.3.0)\n",
            "Requirement already satisfied: scipy>=1.0.1 in /usr/local/lib/python3.7/dist-packages (from scikit-image->efficientnet==1.0.0->segmentation-models) (1.4.1)\n",
            "Requirement already satisfied: pillow!=7.1.0,!=7.1.1,>=4.3.0 in /usr/local/lib/python3.7/dist-packages (from scikit-image->efficientnet==1.0.0->segmentation-models) (7.1.2)\n",
            "Requirement already satisfied: imageio>=2.3.0 in /usr/local/lib/python3.7/dist-packages (from scikit-image->efficientnet==1.0.0->segmentation-models) (2.4.1)\n",
            "Requirement already satisfied: matplotlib!=3.0.0,>=2.0.0 in /usr/local/lib/python3.7/dist-packages (from scikit-image->efficientnet==1.0.0->segmentation-models) (3.2.2)\n",
            "Requirement already satisfied: python-dateutil>=2.1 in /usr/local/lib/python3.7/dist-packages (from matplotlib!=3.0.0,>=2.0.0->scikit-image->efficientnet==1.0.0->segmentation-models) (2.8.2)\n",
            "Requirement already satisfied: cycler>=0.10 in /usr/local/lib/python3.7/dist-packages (from matplotlib!=3.0.0,>=2.0.0->scikit-image->efficientnet==1.0.0->segmentation-models) (0.11.0)\n",
            "Requirement already satisfied: kiwisolver>=1.0.1 in /usr/local/lib/python3.7/dist-packages (from matplotlib!=3.0.0,>=2.0.0->scikit-image->efficientnet==1.0.0->segmentation-models) (1.4.0)\n",
            "Requirement already satisfied: pyparsing!=2.0.4,!=2.1.2,!=2.1.6,>=2.0.1 in /usr/local/lib/python3.7/dist-packages (from matplotlib!=3.0.0,>=2.0.0->scikit-image->efficientnet==1.0.0->segmentation-models) (3.0.7)\n",
            "Requirement already satisfied: typing-extensions in /usr/local/lib/python3.7/dist-packages (from kiwisolver>=1.0.1->matplotlib!=3.0.0,>=2.0.0->scikit-image->efficientnet==1.0.0->segmentation-models) (3.10.0.2)\n",
            "Requirement already satisfied: six>=1.5 in /usr/local/lib/python3.7/dist-packages (from python-dateutil>=2.1->matplotlib!=3.0.0,>=2.0.0->scikit-image->efficientnet==1.0.0->segmentation-models) (1.15.0)\n"
          ]
        }
      ],
      "source": [
        "!pip install -U segmentation-models"
      ]
    },
    {
      "cell_type": "code",
      "execution_count": null,
      "metadata": {
        "id": "DCaIGyCLnHeZ"
      },
      "outputs": [],
      "source": [
        "# we are importing the pretrained unet from the segmentation models\n",
        "# https://github.com/qubvel/segmentation_models\n",
        "import segmentation_models as sm\n",
        "from segmentation_models import Unet\n",
        "sm.set_framework('tf.keras')\n",
        "tf.keras.backend.set_image_data_format('channels_last')"
      ]
    },
    {
      "cell_type": "code",
      "execution_count": null,
      "metadata": {
        "id": "aBHlwn1xnHgc"
      },
      "outputs": [],
      "source": [
        "# loading the unet model and using the resnet 34 and initilized weights with imagenet weights\n",
        "# \"classes\" :different types of classes in the dataset\n",
        "resnet34 = Unet('resnet34', encoder_weights='imagenet', classes=2, activation='softmax', input_shape=(512,512,3), encoder_freeze = True)"
      ]
    },
    {
      "cell_type": "code",
      "execution_count": null,
      "metadata": {
        "id": "FiCd2dieeyr_"
      },
      "outputs": [],
      "source": [
        "callbacks = [\n",
        "    tf.keras.callbacks.ReduceLROnPlateau(monitor='val_iou_score', min_lr=0.000001,patience=1)\n",
        "]"
      ]
    },
    {
      "cell_type": "code",
      "execution_count": null,
      "metadata": {
        "id": "p9qWKl2unHma"
      },
      "outputs": [],
      "source": [
        "# https://github.com/qubvel/segmentation_models\n",
        "from segmentation_models.metrics import iou_score\n",
        "\n",
        "optim = tf.keras.optimizers.Adam(0.01)\n",
        "\n",
        "focal_loss = sm.losses.cce_dice_loss\n",
        "\n",
        "# actulally total_loss can be imported directly from library, above example just show you how to manipulate with losses\n",
        "# total_loss = sm.losses.binary_focal_dice_loss \n",
        "# or total_loss = sm.losses.categorical_focal_dice_loss \n",
        "\n",
        "resnet34.compile(optim, focal_loss, metrics=[iou_score] )"
      ]
    },
    {
      "cell_type": "code",
      "execution_count": null,
      "metadata": {
        "colab": {
          "base_uri": "https://localhost:8080/"
        },
        "id": "C3ARynFwnfnR",
        "outputId": "c2b6afff-45bb-4178-dca9-0b5f49af880c"
      },
      "outputs": [
        {
          "name": "stdout",
          "output_type": "stream",
          "text": [
            "Epoch 1/10\n",
            "6127/6127 [==============================] - 516s 84ms/step - loss: 0.2913 - iou_score: 0.6968 - val_loss: 0.3197 - val_iou_score: 0.6834 - lr: 0.0100\n",
            "Epoch 2/10\n",
            "6127/6127 [==============================] - 513s 84ms/step - loss: 0.2537 - iou_score: 0.7287 - val_loss: 0.3027 - val_iou_score: 0.6924 - lr: 0.0100\n",
            "Epoch 3/10\n",
            "6127/6127 [==============================] - 513s 84ms/step - loss: 0.2275 - iou_score: 0.7490 - val_loss: 0.2930 - val_iou_score: 0.6983 - lr: 1.0000e-03\n",
            "Epoch 4/10\n",
            "6127/6127 [==============================] - 510s 83ms/step - loss: 0.2251 - iou_score: 0.7508 - val_loss: 0.2883 - val_iou_score: 0.7008 - lr: 1.0000e-04\n",
            "Epoch 5/10\n",
            "6127/6127 [==============================] - 511s 83ms/step - loss: 0.2239 - iou_score: 0.7517 - val_loss: 0.2859 - val_iou_score: 0.7043 - lr: 1.0000e-05\n",
            "Epoch 6/10\n",
            "6127/6127 [==============================] - 511s 83ms/step - loss: 0.2245 - iou_score: 0.7521 - val_loss: 0.2871 - val_iou_score: 0.7018 - lr: 1.0000e-06\n",
            "Epoch 7/10\n",
            "6127/6127 [==============================] - 511s 83ms/step - loss: 0.2239 - iou_score: 0.7524 - val_loss: 0.2856 - val_iou_score: 0.7037 - lr: 1.0000e-06\n",
            "Epoch 8/10\n",
            "6127/6127 [==============================] - 512s 83ms/step - loss: 0.2255 - iou_score: 0.7506 - val_loss: 0.2776 - val_iou_score: 0.7098 - lr: 1.0000e-06\n",
            "Epoch 9/10\n",
            "6127/6127 [==============================] - 514s 84ms/step - loss: 0.2243 - iou_score: 0.7515 - val_loss: 0.2835 - val_iou_score: 0.7050 - lr: 1.0000e-06\n",
            "Epoch 10/10\n",
            "6127/6127 [==============================] - 514s 84ms/step - loss: 0.2243 - iou_score: 0.7522 - val_loss: 0.2796 - val_iou_score: 0.7056 - lr: 1.0000e-06\n"
          ]
        }
      ],
      "source": [
        "history = resnet34.fit(train_dataloader, steps_per_epoch=len(train_dataloader), epochs=10, validation_data=test_dataloader, callbacks=[callbacks])"
      ]
    },
    {
      "cell_type": "code",
      "execution_count": null,
      "metadata": {
        "id": "_HZuBSRE1rx6"
      },
      "outputs": [],
      "source": [
        "'''pred_masks = [(pred_mask[0,:,:,0]) for v in range(3)]\n",
        "image_mask = np.stack(pred_masks, axis=-1).astype('float')'''"
      ]
    },
    {
      "cell_type": "code",
      "execution_count": null,
      "metadata": {
        "colab": {
          "base_uri": "https://localhost:8080/"
        },
        "id": "Kce_EDyf53lz",
        "outputId": "8a4939aa-64b0-4dcc-ff52-94c2b230d348"
      },
      "outputs": [
        {
          "name": "stdout",
          "output_type": "stream",
          "text": [
            "INFO:tensorflow:Assets written to: model/resnet34/assets\n"
          ]
        }
      ],
      "source": [
        "resnet34.save('model/resnet34',save_format='tf')"
      ]
    },
    {
      "cell_type": "code",
      "execution_count": null,
      "metadata": {
        "colab": {
          "base_uri": "https://localhost:8080/",
          "height": 35
        },
        "id": "R9O2Jnff6XTW",
        "outputId": "6a3bd60a-a79b-42ac-cea6-c4946829a157"
      },
      "outputs": [
        {
          "data": {
            "application/vnd.google.colaboratory.intrinsic+json": {
              "type": "string"
            },
            "text/plain": [
              "'/content/resnet34.zip'"
            ]
          },
          "execution_count": 97,
          "metadata": {},
          "output_type": "execute_result"
        }
      ],
      "source": [
        "import shutil\n",
        "shutil.make_archive('resnet34', 'zip', '/content/model/resnet34')"
      ]
    },
    {
      "cell_type": "code",
      "execution_count": null,
      "metadata": {
        "id": "JkNeOiKZuGQA"
      },
      "outputs": [],
      "source": [
        "#plotting resnet34_Unet models predictions\n",
        "for i in range(10): \n",
        "  image = cv2.imread(test_images[i])\n",
        "  mask = cv2.imread(test_masks[i])\n",
        "  pred_mask = resnet34.predict(image[np.newaxis,:,:,:])\n",
        "  plt.figure(figsize=(12,15))\n",
        "  plt.subplot(131)\n",
        "  plt.title('original image')\n",
        "  plt.imshow(image)\n",
        "  plt.subplot(132)\n",
        "  plt.title('original mask')\n",
        "  plt.imshow(mask)\n",
        "  plt.subplot(133)\n",
        "  plt.title('predicted mask')\n",
        "  plt.imshow(pred_mask[0,:,:,0])"
      ]
    },
    {
      "cell_type": "code",
      "execution_count": null,
      "metadata": {
        "colab": {
          "base_uri": "https://localhost:8080/"
        },
        "id": "IJLrfHsj3a-q",
        "outputId": "7dfb39fe-e0fc-476f-ea61-6ef7c1623834"
      },
      "outputs": [
        {
          "name": "stdout",
          "output_type": "stream",
          "text": [
            "/content/cropped/images/4_11128900_15.tiff\n",
            "/content/cropped/images/2_17878795_15.tiff\n",
            "/content/cropped/images/2_20878915_15.tiff\n",
            "/content/cropped/images/6_17728870_15.tiff\n",
            "/content/cropped/images/5_21629005_15.tiff\n",
            "/content/cropped/images/2_16978915_15.tiff\n",
            "/content/cropped/images/5_23728945_15.tiff\n",
            "/content/cropped/images/8_11578690_15.tiff\n",
            "/content/cropped/images/0_21328900_15.tiff\n",
            "/content/cropped/images/7_22828930_15.tiff\n"
          ]
        }
      ],
      "source": [
        "for i in range(10): \n",
        "  print(test_images[i])"
      ]
    },
    {
      "cell_type": "markdown",
      "metadata": {
        "id": "Jwh0snVm6ztH"
      },
      "source": [
        "### densenet121 as backbone"
      ]
    },
    {
      "cell_type": "code",
      "execution_count": null,
      "metadata": {
        "colab": {
          "base_uri": "https://localhost:8080/"
        },
        "id": "r8WnQ7K563PS",
        "outputId": "bea6c4c2-0de7-4c36-86f6-85de84f64459"
      },
      "outputs": [
        {
          "name": "stdout",
          "output_type": "stream",
          "text": [
            "Requirement already satisfied: segmentation-models in /usr/local/lib/python3.7/dist-packages (1.0.1)\n",
            "Requirement already satisfied: efficientnet==1.0.0 in /usr/local/lib/python3.7/dist-packages (from segmentation-models) (1.0.0)\n",
            "Requirement already satisfied: image-classifiers==1.0.0 in /usr/local/lib/python3.7/dist-packages (from segmentation-models) (1.0.0)\n",
            "Requirement already satisfied: keras-applications<=1.0.8,>=1.0.7 in /usr/local/lib/python3.7/dist-packages (from segmentation-models) (1.0.8)\n",
            "Requirement already satisfied: scikit-image in /usr/local/lib/python3.7/dist-packages (from efficientnet==1.0.0->segmentation-models) (0.18.3)\n",
            "Requirement already satisfied: numpy>=1.9.1 in /usr/local/lib/python3.7/dist-packages (from keras-applications<=1.0.8,>=1.0.7->segmentation-models) (1.21.5)\n",
            "Requirement already satisfied: h5py in /usr/local/lib/python3.7/dist-packages (from keras-applications<=1.0.8,>=1.0.7->segmentation-models) (3.1.0)\n",
            "Requirement already satisfied: cached-property in /usr/local/lib/python3.7/dist-packages (from h5py->keras-applications<=1.0.8,>=1.0.7->segmentation-models) (1.5.2)\n",
            "Requirement already satisfied: networkx>=2.0 in /usr/local/lib/python3.7/dist-packages (from scikit-image->efficientnet==1.0.0->segmentation-models) (2.6.3)\n",
            "Requirement already satisfied: tifffile>=2019.7.26 in /usr/local/lib/python3.7/dist-packages (from scikit-image->efficientnet==1.0.0->segmentation-models) (2021.11.2)\n",
            "Requirement already satisfied: PyWavelets>=1.1.1 in /usr/local/lib/python3.7/dist-packages (from scikit-image->efficientnet==1.0.0->segmentation-models) (1.3.0)\n",
            "Requirement already satisfied: scipy>=1.0.1 in /usr/local/lib/python3.7/dist-packages (from scikit-image->efficientnet==1.0.0->segmentation-models) (1.4.1)\n",
            "Requirement already satisfied: pillow!=7.1.0,!=7.1.1,>=4.3.0 in /usr/local/lib/python3.7/dist-packages (from scikit-image->efficientnet==1.0.0->segmentation-models) (7.1.2)\n",
            "Requirement already satisfied: imageio>=2.3.0 in /usr/local/lib/python3.7/dist-packages (from scikit-image->efficientnet==1.0.0->segmentation-models) (2.4.1)\n",
            "Requirement already satisfied: matplotlib!=3.0.0,>=2.0.0 in /usr/local/lib/python3.7/dist-packages (from scikit-image->efficientnet==1.0.0->segmentation-models) (3.2.2)\n",
            "Requirement already satisfied: python-dateutil>=2.1 in /usr/local/lib/python3.7/dist-packages (from matplotlib!=3.0.0,>=2.0.0->scikit-image->efficientnet==1.0.0->segmentation-models) (2.8.2)\n",
            "Requirement already satisfied: cycler>=0.10 in /usr/local/lib/python3.7/dist-packages (from matplotlib!=3.0.0,>=2.0.0->scikit-image->efficientnet==1.0.0->segmentation-models) (0.11.0)\n",
            "Requirement already satisfied: kiwisolver>=1.0.1 in /usr/local/lib/python3.7/dist-packages (from matplotlib!=3.0.0,>=2.0.0->scikit-image->efficientnet==1.0.0->segmentation-models) (1.4.0)\n",
            "Requirement already satisfied: pyparsing!=2.0.4,!=2.1.2,!=2.1.6,>=2.0.1 in /usr/local/lib/python3.7/dist-packages (from matplotlib!=3.0.0,>=2.0.0->scikit-image->efficientnet==1.0.0->segmentation-models) (3.0.7)\n",
            "Requirement already satisfied: typing-extensions in /usr/local/lib/python3.7/dist-packages (from kiwisolver>=1.0.1->matplotlib!=3.0.0,>=2.0.0->scikit-image->efficientnet==1.0.0->segmentation-models) (3.10.0.2)\n",
            "Requirement already satisfied: six>=1.5 in /usr/local/lib/python3.7/dist-packages (from python-dateutil>=2.1->matplotlib!=3.0.0,>=2.0.0->scikit-image->efficientnet==1.0.0->segmentation-models) (1.15.0)\n"
          ]
        }
      ],
      "source": [
        "!pip install -U segmentation-models"
      ]
    },
    {
      "cell_type": "code",
      "execution_count": null,
      "metadata": {
        "id": "DVnEJrAS63PS"
      },
      "outputs": [],
      "source": [
        "# we are importing the pretrained unet from the segmentation models\n",
        "# https://github.com/qubvel/segmentation_models\n",
        "import segmentation_models as sm\n",
        "from segmentation_models import Unet\n",
        "sm.set_framework('tf.keras')\n",
        "tf.keras.backend.set_image_data_format('channels_last')"
      ]
    },
    {
      "cell_type": "code",
      "execution_count": null,
      "metadata": {
        "id": "wIwBkK9t63PS"
      },
      "outputs": [],
      "source": [
        "# loading the unet model and using the resnet 34 and initilized weights with imagenet weights\n",
        "# \"classes\" :different types of classes in the dataset\n",
        "densenet121 = Unet('densenet121', encoder_weights='imagenet', classes=2, activation='softmax', input_shape=(512,512,3), encoder_freeze = True)"
      ]
    },
    {
      "cell_type": "code",
      "execution_count": null,
      "metadata": {
        "id": "Riq-u6md63PT"
      },
      "outputs": [],
      "source": [
        "callbacks = [\n",
        "    tf.keras.callbacks.ReduceLROnPlateau(monitor='val_iou_score', min_lr=0.000001,patience=1)\n",
        "]"
      ]
    },
    {
      "cell_type": "code",
      "execution_count": null,
      "metadata": {
        "id": "RngEihNy63PT"
      },
      "outputs": [],
      "source": [
        "# https://github.com/qubvel/segmentation_models\n",
        "from segmentation_models.metrics import iou_score\n",
        "\n",
        "optim = tf.keras.optimizers.Adam(0.01)\n",
        "\n",
        "focal_loss = sm.losses.cce_dice_loss\n",
        "\n",
        "# actulally total_loss can be imported directly from library, above example just show you how to manipulate with losses\n",
        "# total_loss = sm.losses.binary_focal_dice_loss \n",
        "# or total_loss = sm.losses.categorical_focal_dice_loss \n",
        "\n",
        "densenet121.compile(optim, focal_loss, metrics=[iou_score])"
      ]
    },
    {
      "cell_type": "code",
      "execution_count": null,
      "metadata": {
        "colab": {
          "base_uri": "https://localhost:8080/"
        },
        "id": "xCaNuCFK63PT",
        "outputId": "9c746d44-9075-48d7-f15e-e8c3f7348878"
      },
      "outputs": [
        {
          "name": "stdout",
          "output_type": "stream",
          "text": [
            "Epoch 1/6\n",
            "6127/6127 [==============================] - 707s 113ms/step - loss: 0.2923 - iou_score: 0.6963 - val_loss: 0.3003 - val_iou_score: 0.6848 - lr: 0.0100\n",
            "Epoch 2/6\n",
            "6127/6127 [==============================] - 688s 112ms/step - loss: 0.2509 - iou_score: 0.7319 - val_loss: 0.2855 - val_iou_score: 0.7018 - lr: 0.0100\n",
            "Epoch 3/6\n",
            "6127/6127 [==============================] - 687s 112ms/step - loss: 0.2265 - iou_score: 0.7517 - val_loss: 0.2667 - val_iou_score: 0.7131 - lr: 1.0000e-03\n",
            "Epoch 4/6\n",
            "6127/6127 [==============================] - 687s 112ms/step - loss: 0.2219 - iou_score: 0.7537 - val_loss: 0.2777 - val_iou_score: 0.7044 - lr: 1.0000e-04\n",
            "Epoch 5/6\n",
            "6127/6127 [==============================] - 687s 112ms/step - loss: 0.2207 - iou_score: 0.7562 - val_loss: 0.2692 - val_iou_score: 0.7100 - lr: 1.0000e-05\n",
            "Epoch 6/6\n",
            "6127/6127 [==============================] - 689s 112ms/step - loss: 0.2220 - iou_score: 0.7531 - val_loss: 0.2702 - val_iou_score: 0.7101 - lr: 1.0000e-06\n"
          ]
        },
        {
          "data": {
            "text/plain": [
              "<keras.callbacks.History at 0x7f47e294b9d0>"
            ]
          },
          "execution_count": 108,
          "metadata": {},
          "output_type": "execute_result"
        }
      ],
      "source": [
        "densenet121.fit(train_dataloader, steps_per_epoch=len(train_dataloader), epochs=6, validation_data=test_dataloader, callbacks=[callbacks])"
      ]
    },
    {
      "cell_type": "code",
      "execution_count": null,
      "metadata": {
        "id": "U5o9uST663PT"
      },
      "outputs": [],
      "source": [
        "'''pred_masks = [(pred_mask[0,:,:,0]) for v in range(3)]\n",
        "image_mask = np.stack(pred_masks, axis=-1).astype('float')'''"
      ]
    },
    {
      "cell_type": "code",
      "execution_count": null,
      "metadata": {
        "colab": {
          "base_uri": "https://localhost:8080/"
        },
        "id": "QdiM-pKr63PV",
        "outputId": "d21fcbbe-a5e9-4260-beb1-bc70bd10f605"
      },
      "outputs": [
        {
          "name": "stdout",
          "output_type": "stream",
          "text": [
            "INFO:tensorflow:Assets written to: unets/densenet121/assets\n"
          ]
        }
      ],
      "source": [
        "densenet121.save('unets/densenet121',save_format='tf')"
      ]
    },
    {
      "cell_type": "code",
      "execution_count": null,
      "metadata": {
        "colab": {
          "base_uri": "https://localhost:8080/",
          "height": 35
        },
        "id": "PFpI8eDz63PV",
        "outputId": "fcd541a6-d0d9-4c03-f4a0-fbf035565dc4"
      },
      "outputs": [
        {
          "data": {
            "application/vnd.google.colaboratory.intrinsic+json": {
              "type": "string"
            },
            "text/plain": [
              "'/content/densenet121.zip'"
            ]
          },
          "execution_count": 110,
          "metadata": {},
          "output_type": "execute_result"
        }
      ],
      "source": [
        "import shutil\n",
        "shutil.make_archive('densenet121', 'zip', '/content/unets/densenet121')"
      ]
    },
    {
      "cell_type": "code",
      "execution_count": null,
      "metadata": {
        "id": "GG5-U8fR63PV"
      },
      "outputs": [],
      "source": [
        "#plotting resnet34_Unet models predictions\n",
        "for i in range(10): \n",
        "  image = cv2.imread(test_images[i])\n",
        "  mask = cv2.imread(test_masks[i])\n",
        "  pred_mask = densenet121.predict(image[np.newaxis,:,:,:])\n",
        "  plt.figure(figsize=(12,15))\n",
        "  plt.subplot(131)\n",
        "  plt.title('original image')\n",
        "  plt.imshow(image)\n",
        "  plt.subplot(132)\n",
        "  plt.title('original mask')\n",
        "  plt.imshow(mask)\n",
        "  plt.subplot(133)\n",
        "  plt.title('predicted mask')\n",
        "  plt.imshow(pred_mask[0,:,:,0])"
      ]
    },
    {
      "cell_type": "code",
      "execution_count": null,
      "metadata": {
        "colab": {
          "base_uri": "https://localhost:8080/"
        },
        "id": "xyAbB3d663PW",
        "outputId": "ea577361-05c7-4896-84eb-d2fcfef50524"
      },
      "outputs": [
        {
          "name": "stdout",
          "output_type": "stream",
          "text": [
            "/content/cropped/images/4_11128900_15.tiff\n",
            "/content/cropped/images/2_17878795_15.tiff\n",
            "/content/cropped/images/2_20878915_15.tiff\n",
            "/content/cropped/images/6_17728870_15.tiff\n",
            "/content/cropped/images/5_21629005_15.tiff\n",
            "/content/cropped/images/2_16978915_15.tiff\n",
            "/content/cropped/images/5_23728945_15.tiff\n",
            "/content/cropped/images/8_11578690_15.tiff\n",
            "/content/cropped/images/0_21328900_15.tiff\n",
            "/content/cropped/images/7_22828930_15.tiff\n"
          ]
        }
      ],
      "source": [
        "for i in range(10): \n",
        "  print(test_images[i])"
      ]
    },
    {
      "cell_type": "markdown",
      "metadata": {
        "id": "eoxChyGuitfL"
      },
      "source": [
        "### U-net with vgg19 as encoder"
      ]
    },
    {
      "cell_type": "code",
      "execution_count": null,
      "metadata": {
        "id": "Z226GrEEUJoG"
      },
      "outputs": [],
      "source": [
        "# we are importing the pretrained unet from the segmentation models\n",
        "# https://github.com/qubvel/segmentation_models\n",
        "import segmentation_models as sm\n",
        "from segmentation_models import Unet\n",
        "sm.set_framework('tf.keras')\n",
        "tf.keras.backend.set_image_data_format('channels_last')"
      ]
    },
    {
      "cell_type": "code",
      "execution_count": null,
      "metadata": {
        "colab": {
          "base_uri": "https://localhost:8080/"
        },
        "id": "WQFMhqbNUJoN",
        "outputId": "238cba47-45cc-435b-ff7c-d9b36b2f668d"
      },
      "outputs": [
        {
          "name": "stdout",
          "output_type": "stream",
          "text": [
            "Downloading data from https://github.com/fchollet/deep-learning-models/releases/download/v0.1/vgg19_weights_tf_dim_ordering_tf_kernels_notop.h5\n",
            "80142336/80134624 [==============================] - 3s 0us/step\n",
            "80150528/80134624 [==============================] - 3s 0us/step\n"
          ]
        }
      ],
      "source": [
        "# loading the unet model and using the resnet 34 and initilized weights with imagenet weights\n",
        "# \"classes\" :different types of classes in the dataset\n",
        "vgg19 = Unet('vgg19', encoder_weights='imagenet', classes=2, activation='softmax', input_shape=(512,512,3), encoder_freeze = True)"
      ]
    },
    {
      "cell_type": "code",
      "execution_count": null,
      "metadata": {
        "id": "ZVso4_afUJoO"
      },
      "outputs": [],
      "source": [
        "callbacks = [\n",
        "    tf.keras.callbacks.ReduceLROnPlateau(monitor='val_iou_score', min_lr=0.000001,patience=1)\n",
        "]"
      ]
    },
    {
      "cell_type": "code",
      "execution_count": null,
      "metadata": {
        "id": "R2zv_d22UJoO"
      },
      "outputs": [],
      "source": [
        "# https://github.com/qubvel/segmentation_models\n",
        "from segmentation_models.metrics import iou_score\n",
        "\n",
        "optim = tf.keras.optimizers.Adam(0.01)\n",
        "\n",
        "focal_loss = sm.losses.cce_dice_loss\n",
        "\n",
        "# actulally total_loss can be imported directly from library, above example just show you how to manipulate with losses\n",
        "# total_loss = sm.losses.binary_focal_dice_loss \n",
        "# or total_loss = sm.losses.categorical_focal_dice_loss \n",
        "\n",
        "vgg19.compile(optim, focal_loss, metrics=[iou_score] )"
      ]
    },
    {
      "cell_type": "code",
      "execution_count": null,
      "metadata": {
        "colab": {
          "base_uri": "https://localhost:8080/"
        },
        "id": "QcTxV5iUUJoO",
        "outputId": "228477b7-f366-440e-e029-367438848ff2"
      },
      "outputs": [
        {
          "name": "stdout",
          "output_type": "stream",
          "text": [
            "Epoch 1/8\n",
            "6127/6127 [==============================] - 630s 103ms/step - loss: 0.2819 - iou_score: 0.7028 - val_loss: 0.3092 - val_iou_score: 0.6699 - lr: 0.0100\n",
            "Epoch 2/8\n",
            "6127/6127 [==============================] - 625s 102ms/step - loss: 0.2621 - iou_score: 0.7189 - val_loss: 0.3092 - val_iou_score: 0.6802 - lr: 0.0100\n",
            "Epoch 3/8\n",
            "6127/6127 [==============================] - 624s 102ms/step - loss: 0.2376 - iou_score: 0.7366 - val_loss: 0.3026 - val_iou_score: 0.6878 - lr: 1.0000e-03\n",
            "Epoch 4/8\n",
            "6127/6127 [==============================] - 624s 102ms/step - loss: 0.2348 - iou_score: 0.7411 - val_loss: 0.3159 - val_iou_score: 0.6799 - lr: 1.0000e-04\n",
            "Epoch 5/8\n",
            "6127/6127 [==============================] - 623s 102ms/step - loss: 0.2364 - iou_score: 0.7400 - val_loss: 0.3331 - val_iou_score: 0.6664 - lr: 1.0000e-05\n",
            "Epoch 6/8\n",
            "6127/6127 [==============================] - 625s 102ms/step - loss: 0.2340 - iou_score: 0.7415 - val_loss: 0.3052 - val_iou_score: 0.6866 - lr: 1.0000e-05\n",
            "Epoch 7/8\n",
            "6127/6127 [==============================] - 624s 102ms/step - loss: 0.2326 - iou_score: 0.7437 - val_loss: 0.3223 - val_iou_score: 0.6738 - lr: 1.0000e-06\n",
            "Epoch 8/8\n",
            "6127/6127 [==============================] - 624s 102ms/step - loss: 0.2337 - iou_score: 0.7409 - val_loss: 0.3162 - val_iou_score: 0.6794 - lr: 1.0000e-06\n"
          ]
        },
        {
          "data": {
            "text/plain": [
              "<keras.callbacks.History at 0x7f47e28ac410>"
            ]
          },
          "execution_count": 98,
          "metadata": {},
          "output_type": "execute_result"
        }
      ],
      "source": [
        "vgg19.fit(train_dataloader, steps_per_epoch=len(train_dataloader), epochs=8, validation_data=test_dataloader, callbacks=[callbacks])"
      ]
    },
    {
      "cell_type": "code",
      "execution_count": null,
      "metadata": {
        "id": "2zEqS1EoUJoO"
      },
      "outputs": [],
      "source": [
        "'''pred_masks = [(pred_mask[0,:,:,0]) for v in range(3)]\n",
        "image_mask = np.stack(pred_masks, axis=-1).astype('float')'''"
      ]
    },
    {
      "cell_type": "code",
      "execution_count": null,
      "metadata": {
        "colab": {
          "base_uri": "https://localhost:8080/"
        },
        "id": "ssCzFxi_UJoO",
        "outputId": "c9049bfc-4776-41a1-daf4-8a4cba07f39a"
      },
      "outputs": [
        {
          "name": "stdout",
          "output_type": "stream",
          "text": [
            "INFO:tensorflow:Assets written to: unet/vgg19/assets\n"
          ]
        }
      ],
      "source": [
        "vgg19.save('unet/vgg19',save_format='tf')"
      ]
    },
    {
      "cell_type": "code",
      "execution_count": null,
      "metadata": {
        "colab": {
          "base_uri": "https://localhost:8080/",
          "height": 35
        },
        "id": "Vi8Pl1jbUJoO",
        "outputId": "5b6bcc24-da25-4b94-a555-eba3c67dd789"
      },
      "outputs": [
        {
          "data": {
            "application/vnd.google.colaboratory.intrinsic+json": {
              "type": "string"
            },
            "text/plain": [
              "'/content/vgg19.zip'"
            ]
          },
          "execution_count": 100,
          "metadata": {},
          "output_type": "execute_result"
        }
      ],
      "source": [
        "import shutil\n",
        "shutil.make_archive('vgg19', 'zip', '/content/unet/vgg19')"
      ]
    },
    {
      "cell_type": "code",
      "execution_count": null,
      "metadata": {
        "id": "IhO5t-oVUJoP"
      },
      "outputs": [],
      "source": [
        "#plotting resnet34_Unet models predictions\n",
        "for i in range(10): \n",
        "  image = cv2.imread(test_images[i])\n",
        "  mask = cv2.imread(test_masks[i])\n",
        "  pred_mask = vgg19.predict(image[np.newaxis,:,:,:])\n",
        "  plt.figure(figsize=(12,15))\n",
        "  plt.subplot(131)\n",
        "  plt.title('original image')\n",
        "  plt.imshow(image)\n",
        "  plt.subplot(132)\n",
        "  plt.title('original mask')\n",
        "  plt.imshow(mask)\n",
        "  plt.subplot(133)\n",
        "  plt.title('predicted mask')\n",
        "  plt.imshow(pred_mask[0,:,:,0])"
      ]
    },
    {
      "cell_type": "code",
      "execution_count": null,
      "metadata": {
        "colab": {
          "base_uri": "https://localhost:8080/"
        },
        "id": "Rh3_ZumfUJoP",
        "outputId": "c0606287-59b5-4671-cf30-7e6bc3263807"
      },
      "outputs": [
        {
          "name": "stdout",
          "output_type": "stream",
          "text": [
            "/content/cropped/images/4_11128900_15.tiff\n",
            "/content/cropped/images/2_17878795_15.tiff\n",
            "/content/cropped/images/2_20878915_15.tiff\n",
            "/content/cropped/images/6_17728870_15.tiff\n",
            "/content/cropped/images/5_21629005_15.tiff\n",
            "/content/cropped/images/2_16978915_15.tiff\n",
            "/content/cropped/images/5_23728945_15.tiff\n",
            "/content/cropped/images/8_11578690_15.tiff\n",
            "/content/cropped/images/0_21328900_15.tiff\n",
            "/content/cropped/images/7_22828930_15.tiff\n"
          ]
        }
      ],
      "source": [
        "for i in range(10): \n",
        "  print(test_images[i])"
      ]
    },
    {
      "cell_type": "markdown",
      "metadata": {
        "id": "GqIqR1yZsvbI"
      },
      "source": [
        "\n",
        "### Score tabulation\n",
        "\n",
        "|Unet Architecture                                    |val_iou_score| \n",
        "|----------------------                               |-------------|\n",
        "|Custom Unet                                          | 0.7339      |\n",
        "|Unet with resnet as encoder and imagenet weights     | 0.7056      |\n",
        "| Unet with densenet as encoder and imagenet weights  | 0.6799      |\n",
        "| Unet with vgg19 as encoder and imagenet weights     | 0.7131      |\n",
        "| Unet with efficientnet as encoder and imagenet weights| 0.74      |\n",
        "\n"
      ]
    },
    {
      "cell_type": "markdown",
      "metadata": {
        "id": "jNpzYFvp2rRS"
      },
      "source": [
        "### Conclusion\n",
        "\n",
        "\n",
        "1.   It's best to use custom unet architecture rather than pretraied as it performs better and takes less time to train (than efficient net)\n",
        "\n",
        "2.   Augumenting data provides increases iou score by a slight margin\n",
        "\n",
        "\n",
        "\n",
        "\n"
      ]
    },
    {
      "cell_type": "code",
      "execution_count": null,
      "metadata": {
        "id": "ACFifagnz1n9"
      },
      "outputs": [],
      "source": [
        ""
      ]
    }
  ],
  "metadata": {
    "colab": {
      "collapsed_sections": [],
      "name": "Semantic road segmentation_.ipynb",
      "provenance": []
    },
    "kernelspec": {
      "display_name": "Python 3",
      "language": "python",
      "name": "python3"
    },
    "language_info": {
      "codemirror_mode": {
        "name": "ipython",
        "version": 3
      },
      "file_extension": ".py",
      "mimetype": "text/x-python",
      "name": "python",
      "nbconvert_exporter": "python",
      "pygments_lexer": "ipython3",
      "version": "3.7.7"
    }
  },
  "nbformat": 4,
  "nbformat_minor": 0
}